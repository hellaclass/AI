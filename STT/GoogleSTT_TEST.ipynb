{
  "nbformat": 4,
  "nbformat_minor": 0,
  "metadata": {
    "colab": {
      "name": "GoogleSTT_TEST.ipynb",
      "private_outputs": true,
      "provenance": []
    },
    "kernelspec": {
      "name": "python3",
      "display_name": "Python 3"
    }
  },
  "cells": [
    {
      "cell_type": "code",
      "metadata": {
        "id": "SxzivO_9FDi9"
      },
      "source": [
        "!pip install google.cloud.speech"
      ],
      "execution_count": null,
      "outputs": []
    },
    {
      "cell_type": "code",
      "metadata": {
        "id": "UDmvzUmCGYcK"
      },
      "source": [
        "import os\n",
        "os.environ[\"GOOGLE_APPLICATION_CREDENTIALS\"]=\"/content/drive/MyDrive/Helricelus/test-heracelus-epf9-088e6dc92eba.json\"\n"
      ],
      "execution_count": null,
      "outputs": []
    },
    {
      "cell_type": "code",
      "metadata": {
        "id": "11m4nCL9E3su"
      },
      "source": [
        "import io\n",
        "import os\n",
        "\n",
        "# Imports the Google Cloud client library\n",
        "from google.cloud import speech\n",
        "\n",
        "# Instantiates a client\n",
        "client = speech.SpeechClient()\n",
        "\n",
        "# The name of the audio file to transcribe\n",
        "file_name = os.path.join(os.path.dirname(\"/content/drive/MyDrive/Helricelus/voice/\"), \"운행시작\", \"2.wav\")\n",
        "\n",
        "# Loads the audio into memory\n",
        "with io.open(file_name, \"rb\") as audio_file:\n",
        "    content = audio_file.read()\n",
        "    audio = speech.RecognitionAudio(content=content)\n",
        "\n",
        "config = speech.RecognitionConfig(\n",
        "    encoding=speech.RecognitionConfig.AudioEncoding.LINEAR16,\n",
        "    \n",
        "    ##음성파일 hertz\n",
        "    sample_rate_hertz=22050,\n",
        "    language_code=\"ko-KR\",\n",
        ")\n",
        "\n",
        "# Detects speech in the audio file\n",
        "response = client.recognize(config=config, audio=audio)\n",
        "\n",
        "for result in response.results:\n",
        "    print(\"Transcript: {}\".format(result.alternatives[0].transcript))"
      ],
      "execution_count": null,
      "outputs": []
    },
    {
      "cell_type": "code",
      "metadata": {
        "id": "XwthtG9XE-eY"
      },
      "source": [
        ""
      ],
      "execution_count": null,
      "outputs": []
    }
  ]
}