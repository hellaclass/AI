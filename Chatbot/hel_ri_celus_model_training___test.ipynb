{
  "nbformat": 4,
  "nbformat_minor": 0,
  "metadata": {
    "colab": {
      "name": "hel_ri_celus_model_training & test",
      "provenance": [],
      "collapsed_sections": [
        "qlbKkYipU4Yl",
        "4zgaRpQDdvXb",
        "kguP0dF4shL8",
        "xW3tyDdlDMAV"
      ],
      "machine_shape": "hm"
    },
    "kernelspec": {
      "name": "python3",
      "display_name": "Python 3"
    },
    "accelerator": "GPU"
  },
  "cells": [
    {
      "cell_type": "markdown",
      "metadata": {
        "id": "WGO07lIw1kG9"
      },
      "source": [
        "# Code for model training & test"
      ]
    },
    {
      "cell_type": "markdown",
      "metadata": {
        "id": "qlbKkYipU4Yl"
      },
      "source": [
        "# lib & load_data"
      ]
    },
    {
      "cell_type": "code",
      "metadata": {
        "id": "WxNNJLVzm2Jn",
        "colab": {
          "base_uri": "https://localhost:8080/"
        },
        "outputId": "bdf05301-7f1e-46fd-c3da-b04388f87340"
      },
      "source": [
        "#### installation ###\n",
        "\n",
        "!pip install git+https://github.com/ssut/py-hanspell.git\n",
        "!pip install konlpy"
      ],
      "execution_count": 121,
      "outputs": [
        {
          "output_type": "stream",
          "text": [
            "Collecting git+https://github.com/ssut/py-hanspell.git\n",
            "  Cloning https://github.com/ssut/py-hanspell.git to /tmp/pip-req-build-6ti368ej\n",
            "  Running command git clone -q https://github.com/ssut/py-hanspell.git /tmp/pip-req-build-6ti368ej\n",
            "Requirement already satisfied (use --upgrade to upgrade): py-hanspell==1.1 from git+https://github.com/ssut/py-hanspell.git in /usr/local/lib/python3.6/dist-packages\n",
            "Requirement already satisfied: requests in /usr/local/lib/python3.6/dist-packages (from py-hanspell==1.1) (2.23.0)\n",
            "Requirement already satisfied: certifi>=2017.4.17 in /usr/local/lib/python3.6/dist-packages (from requests->py-hanspell==1.1) (2020.11.8)\n",
            "Requirement already satisfied: chardet<4,>=3.0.2 in /usr/local/lib/python3.6/dist-packages (from requests->py-hanspell==1.1) (3.0.4)\n",
            "Requirement already satisfied: urllib3!=1.25.0,!=1.25.1,<1.26,>=1.21.1 in /usr/local/lib/python3.6/dist-packages (from requests->py-hanspell==1.1) (1.24.3)\n",
            "Requirement already satisfied: idna<3,>=2.5 in /usr/local/lib/python3.6/dist-packages (from requests->py-hanspell==1.1) (2.10)\n",
            "Building wheels for collected packages: py-hanspell\n",
            "  Building wheel for py-hanspell (setup.py) ... \u001b[?25l\u001b[?25hdone\n",
            "  Created wheel for py-hanspell: filename=py_hanspell-1.1-cp36-none-any.whl size=4854 sha256=d983e78fbe171602d3ee9588a5e89973aa6fa3d040421038bae74d341d2aa134\n",
            "  Stored in directory: /tmp/pip-ephem-wheel-cache-6xksqvwx/wheels/0a/25/d1/e5e96476dbb1c318cc26c992dd493394fe42b0c204b3e65588\n",
            "Successfully built py-hanspell\n"
          ],
          "name": "stdout"
        }
      ]
    },
    {
      "cell_type": "code",
      "metadata": {
        "id": "Cv54gM_7-3ui"
      },
      "source": [
        "import numpy as np\n",
        "import pandas as pd\n",
        "import tensorflow as tf\n",
        "from tensorflow.keras.datasets import reuters\n",
        "%matplotlib inline\n",
        "import matplotlib.pyplot as plt\n",
        "import seaborn as sns\n",
        "from sklearn.model_selection import train_test_split\n",
        "from konlpy.tag import Okt, Kkma\n",
        "okt = Okt()\n",
        "kkma = Kkma()\n",
        "from tensorflow.keras.preprocessing.sequence import pad_sequences\n",
        "from tensorflow.keras.preprocessing.text import Tokenizer\n",
        "import re\n",
        "from hanspell import spell_checker"
      ],
      "execution_count": 123,
      "outputs": []
    },
    {
      "cell_type": "markdown",
      "metadata": {
        "id": "M_g2attpzpQr"
      },
      "source": [
        "# path setting"
      ]
    },
    {
      "cell_type": "code",
      "metadata": {
        "id": "eD0cMKN20N9Y"
      },
      "source": [
        "train_data_path = \"/content/drive/MyDrive/Programming/Project/Hel_ri_celus (AI voice_bot for delivery_riders)/data/train_data.csv\"\n",
        "test_data_path = \"/content/drive/MyDrive/Programming/Project/Hel_ri_celus (AI voice_bot for delivery_riders)/data/test_data.csv\"\n",
        "\n",
        "token_ls_save_path = \"/content/drive/MyDrive/Programming/Project/Hel_ri_celus (AI voice_bot for delivery_riders)/token_ls.csv\"\n",
        "\n",
        "model_save_path = '/content/drive/MyDrive/Programming/Project/Hel_ri_celus (AI voice_bot for delivery_riders)/model/best_model.h5'\n"
      ],
      "execution_count": 151,
      "outputs": []
    },
    {
      "cell_type": "markdown",
      "metadata": {
        "id": "fkHBqJjpU7yD"
      },
      "source": [
        "# Preprocessing"
      ]
    },
    {
      "cell_type": "code",
      "metadata": {
        "id": "RzHmt72Qg_W0"
      },
      "source": [
        "df_train = pd.read_csv(train_data_path)\n",
        "df_test = pd.read_csv(test_data_path)"
      ],
      "execution_count": 152,
      "outputs": []
    },
    {
      "cell_type": "markdown",
      "metadata": {
        "id": "9GKIlxYKU_Yn"
      },
      "source": [
        "## 정규 표현식으로 치환\n",
        "분, 주문번호 변환"
      ]
    },
    {
      "cell_type": "code",
      "metadata": {
        "id": "Q4iY6nV8hrx2"
      },
      "source": [
        "# 정규표현식 함수 정의\n",
        "\n",
        "def re_sub(df):\n",
        "    convert_ls =[]\n",
        "    for idx in (df['text']):\n",
        "        idx = re.sub(\"\\d\\d\\d\\d\",\" @\",idx)\n",
        "        idx = re.sub(\"\\d\\d분\",\" #분\",idx)\n",
        "        \n",
        "        ## 띄어쓰기, 맞춤법\n",
        "        spelled_sent = spell_checker.check(idx)\n",
        "        hanspell_sent = spelled_sent.checked\n",
        "        \n",
        "        convert_ls.append(hanspell_sent)\n",
        "\n",
        "    convert_txt = pd.Series(convert_ls, name = 'convert_ls')\n",
        "    df = pd.concat([df,convert_txt],axis = 1)\n",
        "\n",
        "    return df"
      ],
      "execution_count": 125,
      "outputs": []
    },
    {
      "cell_type": "code",
      "metadata": {
        "id": "9WY-8mVhidQq"
      },
      "source": [
        "df_train = re_sub(df_train)\n",
        "df_test = re_sub(df_test)"
      ],
      "execution_count": 126,
      "outputs": []
    },
    {
      "cell_type": "markdown",
      "metadata": {
        "id": "paXKMAtHdoqM"
      },
      "source": [
        "### train_data label 확인"
      ]
    },
    {
      "cell_type": "code",
      "metadata": {
        "id": "TsPwdwU0ZA9m",
        "colab": {
          "base_uri": "https://localhost:8080/"
        },
        "outputId": "dce2bc22-dd92-4ff1-f26f-b4a8c2f339c7"
      },
      "source": [
        "# label\n",
        "pd.Series.unique(df_train['intent'])"
      ],
      "execution_count": 127,
      "outputs": [
        {
          "output_type": "execute_result",
          "data": {
            "text/plain": [
              "array(['운행시작', '가게전화', '가게도착', '픽업완료', '영수증번호', '소요시간선택', '배달완료'],\n",
              "      dtype=object)"
            ]
          },
          "metadata": {
            "tags": []
          },
          "execution_count": 127
        }
      ]
    },
    {
      "cell_type": "markdown",
      "metadata": {
        "id": "Ao3cGm9EyXty"
      },
      "source": [
        "## 형태소로 분리 , df에 열로 추가"
      ]
    },
    {
      "cell_type": "markdown",
      "metadata": {
        "id": "4zgaRpQDdvXb"
      },
      "source": [
        "### tokenizer 테스트"
      ]
    },
    {
      "cell_type": "code",
      "metadata": {
        "id": "S7SuQ-EFkqvL"
      },
      "source": [
        "# okt_ls = []\n",
        "# for i in range(len(text_data)):\n",
        "#     okt_text = okt.pos(text_data['convert_ls'][i])\n",
        "#     okt_ls = okt_ls + okt_text\n",
        "\n",
        "# pd.unique(okt_ls)"
      ],
      "execution_count": 128,
      "outputs": []
    },
    {
      "cell_type": "code",
      "metadata": {
        "id": "xIaU_-3zmT9X"
      },
      "source": [
        "# kkma_ls = []\n",
        "# for i in range(len(text_data)):\n",
        "#     kkma_text = kkma.pos(text_data['convert_ls'][i])\n",
        "#     kkma_ls = kkma_ls + kkma_text\n",
        "\n",
        "# pd.unique(kkma_ls)"
      ],
      "execution_count": 129,
      "outputs": []
    },
    {
      "cell_type": "markdown",
      "metadata": {
        "id": "kguP0dF4shL8"
      },
      "source": [
        "### kkma가 더 적합해보임\n",
        "\n",
        "토큰화 / 불용어 제거 / token_len_max"
      ]
    },
    {
      "cell_type": "code",
      "metadata": {
        "id": "XL1lW7wrgI0S"
      },
      "source": [
        "# kkma 토큰화 함수정의\n",
        "\n",
        "def kkma_tokenizer(input_df):\n",
        "    \n",
        "    valid_pos = ['NNG','VV','SW','MAG']\n",
        "    \n",
        "    input_df['token_text'] = np.nan\n",
        "\n",
        "    token_ls =[]\n",
        "    for i in range(len(input_df)):\n",
        "        \n",
        "        # tokenize\n",
        "        token_text = kkma.pos(input_df['convert_ls'][i])\n",
        "        \n",
        "        # 불용어 제거\n",
        "        ls = []\n",
        "        for token in token_text:\n",
        "            \n",
        "            if token[1] in valid_pos:\n",
        "                ls.append(token[0])\n",
        "                token_ls.append(token[0])\n",
        "            \n",
        "            input_df['token_text'][i] = ls"
      ],
      "execution_count": 130,
      "outputs": []
    },
    {
      "cell_type": "code",
      "metadata": {
        "id": "pFPLS6YJhOjm",
        "colab": {
          "base_uri": "https://localhost:8080/"
        },
        "outputId": "cf553b0e-e353-40fc-ad69-0236b400a3f1"
      },
      "source": [
        "kkma_tokenizer(df_train)\n",
        "kkma_tokenizer(df_test)"
      ],
      "execution_count": 131,
      "outputs": [
        {
          "output_type": "stream",
          "text": [
            "/usr/local/lib/python3.6/dist-packages/ipykernel_launcher.py:23: SettingWithCopyWarning: \n",
            "A value is trying to be set on a copy of a slice from a DataFrame\n",
            "\n",
            "See the caveats in the documentation: https://pandas.pydata.org/pandas-docs/stable/user_guide/indexing.html#returning-a-view-versus-a-copy\n",
            "/usr/local/lib/python3.6/dist-packages/pandas/core/indexing.py:670: SettingWithCopyWarning: \n",
            "A value is trying to be set on a copy of a slice from a DataFrame\n",
            "\n",
            "See the caveats in the documentation: https://pandas.pydata.org/pandas-docs/stable/user_guide/indexing.html#returning-a-view-versus-a-copy\n",
            "  iloc._setitem_with_indexer(indexer, value)\n"
          ],
          "name": "stderr"
        }
      ]
    },
    {
      "cell_type": "code",
      "metadata": {
        "colab": {
          "base_uri": "https://localhost:8080/",
          "height": 419
        },
        "id": "jY4N7FWbIHOJ",
        "outputId": "ebed5ffc-5a17-4e45-df38-64a12701f914"
      },
      "source": [
        "df_train"
      ],
      "execution_count": 132,
      "outputs": [
        {
          "output_type": "execute_result",
          "data": {
            "text/html": [
              "<div>\n",
              "<style scoped>\n",
              "    .dataframe tbody tr th:only-of-type {\n",
              "        vertical-align: middle;\n",
              "    }\n",
              "\n",
              "    .dataframe tbody tr th {\n",
              "        vertical-align: top;\n",
              "    }\n",
              "\n",
              "    .dataframe thead th {\n",
              "        text-align: right;\n",
              "    }\n",
              "</style>\n",
              "<table border=\"1\" class=\"dataframe\">\n",
              "  <thead>\n",
              "    <tr style=\"text-align: right;\">\n",
              "      <th></th>\n",
              "      <th>text</th>\n",
              "      <th>intent</th>\n",
              "      <th>label</th>\n",
              "      <th>convert_ls</th>\n",
              "      <th>token_text</th>\n",
              "    </tr>\n",
              "  </thead>\n",
              "  <tbody>\n",
              "    <tr>\n",
              "      <th>0</th>\n",
              "      <td>운행시작해</td>\n",
              "      <td>운행시작</td>\n",
              "      <td>0</td>\n",
              "      <td>운행 시작해</td>\n",
              "      <td>[운행, 시작하]</td>\n",
              "    </tr>\n",
              "    <tr>\n",
              "      <th>1</th>\n",
              "      <td>운행시작하자</td>\n",
              "      <td>운행시작</td>\n",
              "      <td>0</td>\n",
              "      <td>운행 시작하자</td>\n",
              "      <td>[운행, 시작]</td>\n",
              "    </tr>\n",
              "    <tr>\n",
              "      <th>2</th>\n",
              "      <td>운행하자</td>\n",
              "      <td>운행시작</td>\n",
              "      <td>0</td>\n",
              "      <td>운행하자</td>\n",
              "      <td>[운행]</td>\n",
              "    </tr>\n",
              "    <tr>\n",
              "      <th>3</th>\n",
              "      <td>운행해</td>\n",
              "      <td>운행시작</td>\n",
              "      <td>0</td>\n",
              "      <td>운행해</td>\n",
              "      <td>[운행]</td>\n",
              "    </tr>\n",
              "    <tr>\n",
              "      <th>4</th>\n",
              "      <td>운행시작해주세요</td>\n",
              "      <td>운행시작</td>\n",
              "      <td>0</td>\n",
              "      <td>운행 시작해주세요</td>\n",
              "      <td>[운행, 시작하]</td>\n",
              "    </tr>\n",
              "    <tr>\n",
              "      <th>...</th>\n",
              "      <td>...</td>\n",
              "      <td>...</td>\n",
              "      <td>...</td>\n",
              "      <td>...</td>\n",
              "      <td>...</td>\n",
              "    </tr>\n",
              "    <tr>\n",
              "      <th>120</th>\n",
              "      <td>배달끝났어</td>\n",
              "      <td>배달완료</td>\n",
              "      <td>6</td>\n",
              "      <td>배달 끝났어</td>\n",
              "      <td>[배달, 끝나]</td>\n",
              "    </tr>\n",
              "    <tr>\n",
              "      <th>121</th>\n",
              "      <td>음식배달완료</td>\n",
              "      <td>배달완료</td>\n",
              "      <td>6</td>\n",
              "      <td>음식 배달 완료</td>\n",
              "      <td>[음식, 배달, 완료]</td>\n",
              "    </tr>\n",
              "    <tr>\n",
              "      <th>122</th>\n",
              "      <td>음식배달완료했어</td>\n",
              "      <td>배달완료</td>\n",
              "      <td>6</td>\n",
              "      <td>음식 배달 완료했어</td>\n",
              "      <td>[음식, 배달, 완료]</td>\n",
              "    </tr>\n",
              "    <tr>\n",
              "      <th>123</th>\n",
              "      <td>음식배달끝냈어</td>\n",
              "      <td>배달완료</td>\n",
              "      <td>6</td>\n",
              "      <td>음식 배달 끝냈어</td>\n",
              "      <td>[음식, 배달, 끝내]</td>\n",
              "    </tr>\n",
              "    <tr>\n",
              "      <th>124</th>\n",
              "      <td>음식배달끝났어</td>\n",
              "      <td>배달완료</td>\n",
              "      <td>6</td>\n",
              "      <td>음식 배달 끝났어</td>\n",
              "      <td>[음식, 배달, 끝나]</td>\n",
              "    </tr>\n",
              "  </tbody>\n",
              "</table>\n",
              "<p>125 rows × 5 columns</p>\n",
              "</div>"
            ],
            "text/plain": [
              "         text intent  label  convert_ls    token_text\n",
              "0       운행시작해   운행시작      0      운행 시작해     [운행, 시작하]\n",
              "1      운행시작하자   운행시작      0     운행 시작하자      [운행, 시작]\n",
              "2        운행하자   운행시작      0        운행하자          [운행]\n",
              "3         운행해   운행시작      0         운행해          [운행]\n",
              "4    운행시작해주세요   운행시작      0   운행 시작해주세요     [운행, 시작하]\n",
              "..        ...    ...    ...         ...           ...\n",
              "120     배달끝났어   배달완료      6      배달 끝났어      [배달, 끝나]\n",
              "121    음식배달완료   배달완료      6    음식 배달 완료  [음식, 배달, 완료]\n",
              "122  음식배달완료했어   배달완료      6  음식 배달 완료했어  [음식, 배달, 완료]\n",
              "123   음식배달끝냈어   배달완료      6   음식 배달 끝냈어  [음식, 배달, 끝내]\n",
              "124   음식배달끝났어   배달완료      6   음식 배달 끝났어  [음식, 배달, 끝나]\n",
              "\n",
              "[125 rows x 5 columns]"
            ]
          },
          "metadata": {
            "tags": []
          },
          "execution_count": 132
        }
      ]
    },
    {
      "cell_type": "markdown",
      "metadata": {
        "id": "ZJgn95TyX4JL"
      },
      "source": [
        "## Inter encode"
      ]
    },
    {
      "cell_type": "code",
      "metadata": {
        "id": "ay8M8AIrrYeM"
      },
      "source": [
        "# 토크나이저 최적화\n",
        "token_ls = []\n",
        "\n",
        "for i in range(len(df_train)):\n",
        "    \n",
        "    token_ls = token_ls + df_train['token_text'][i]\n",
        "\n",
        "token_ls = pd.Series(token_ls, name = 'token')\n",
        "\n",
        "# tokenizer fit\n",
        "tokenizer = Tokenizer()\n",
        "tokenizer.fit_on_texts(token_ls)\n",
        "\n",
        "# 글자 묶음 크기\n",
        "unq_token = pd.unique(token_ls)\n",
        "vocab_size = len(unq_token)\n",
        "\n",
        "\n",
        "token_ls.to_csv(token_ls_save_path)"
      ],
      "execution_count": 133,
      "outputs": []
    },
    {
      "cell_type": "code",
      "metadata": {
        "colab": {
          "base_uri": "https://localhost:8080/"
        },
        "id": "OjffAax9v-bZ",
        "outputId": "08253d17-5df2-47e0-8624-26ae8b7c0731"
      },
      "source": [
        "len(tokenizer.word_index)\n",
        "vocab_size"
      ],
      "execution_count": 149,
      "outputs": [
        {
          "output_type": "execute_result",
          "data": {
            "text/plain": [
              "30"
            ]
          },
          "metadata": {
            "tags": []
          },
          "execution_count": 149
        }
      ]
    },
    {
      "cell_type": "code",
      "metadata": {
        "id": "AW-dArz7sCs0"
      },
      "source": [
        "## df의 정수인코딩 column 생성 및 반영 함수화\n",
        "# tokenizer.fit_on_texts 에서 특수문자 @,# 을 자체적으로 없앰, 이 부분 보완 필요\n",
        "\n",
        "def int_encode(df, token_ls):\n",
        "\n",
        "    tokenizer.fit_on_texts(token_ls)\n",
        "\n",
        "    df['integer_encode'] = np.nan\n",
        "    \n",
        "    for i in range(len(df)):\n",
        "        \n",
        "        # integer encode\n",
        "        seq = tokenizer.texts_to_sequences(df['token_text'])\n",
        "\n",
        "        df['integer_encode'] = seq"
      ],
      "execution_count": 134,
      "outputs": []
    },
    {
      "cell_type": "code",
      "metadata": {
        "id": "sxuA9_Uwsyjl"
      },
      "source": [
        "int_encode(df_train,token_ls = token_ls)\n",
        "int_encode(df_test,token_ls = token_ls)"
      ],
      "execution_count": 135,
      "outputs": []
    },
    {
      "cell_type": "markdown",
      "metadata": {
        "id": "2E3C6je4wsoo"
      },
      "source": [
        "## Padding"
      ]
    },
    {
      "cell_type": "code",
      "metadata": {
        "id": "RBC9y3WjwwPu"
      },
      "source": [
        "df_train = df_train[['integer_encode','label']]\n",
        "df_test = df_test[['integer_encode','label']]"
      ],
      "execution_count": 136,
      "outputs": []
    },
    {
      "cell_type": "code",
      "metadata": {
        "id": "zX_xFf0A7kRN"
      },
      "source": [
        "max_len = 8\n",
        "\n",
        "train_padded = pad_sequences(df_train['integer_encode'], maxlen=max_len)\n",
        "test_padded = pad_sequences(df_test['integer_encode'], maxlen=max_len)"
      ],
      "execution_count": 137,
      "outputs": []
    },
    {
      "cell_type": "markdown",
      "metadata": {
        "id": "jVj-tCR4w53H"
      },
      "source": [
        "# train_test_split"
      ]
    },
    {
      "cell_type": "code",
      "metadata": {
        "id": "bqCLFUBOt3ZS"
      },
      "source": [
        "x_data_train,x_data_valid, y_data_train, y_data_valid = \\\n",
        "train_test_split(train_padded,\n",
        "                 df_train['label'],\n",
        "                 test_size=0.3,\n",
        "                 random_state=0,\n",
        "                 shuffle = True)"
      ],
      "execution_count": 138,
      "outputs": []
    },
    {
      "cell_type": "markdown",
      "metadata": {
        "id": "Zj_YeBJMw0mS"
      },
      "source": [
        "# Modeling"
      ]
    },
    {
      "cell_type": "code",
      "metadata": {
        "id": "eUaP_oyKxIvD"
      },
      "source": [
        "from tensorflow.keras.models import Sequential\n",
        "from tensorflow.keras.layers import Dense, LSTM, Embedding, SimpleRNN\n",
        "from tensorflow.keras.preprocessing.sequence import pad_sequences\n",
        "from tensorflow.keras.callbacks import EarlyStopping, ModelCheckpoint\n",
        "from tensorflow.keras.models import load_model"
      ],
      "execution_count": 139,
      "outputs": []
    },
    {
      "cell_type": "markdown",
      "metadata": {
        "id": "qpHHsdO49Ry_"
      },
      "source": [
        "## label one_hot_encoding"
      ]
    },
    {
      "cell_type": "code",
      "metadata": {
        "id": "0vmPsON77eJa"
      },
      "source": [
        "from tensorflow.keras.utils import to_categorical\n",
        "\n",
        "y_data_train = to_categorical(y_data_train) # 훈련용 레이블의 원-핫 인코딩\n",
        "y_data_valid = to_categorical(y_data_valid) # valid용 레이블의 원-핫 인코딩"
      ],
      "execution_count": 140,
      "outputs": []
    },
    {
      "cell_type": "markdown",
      "metadata": {
        "id": "WUOd7Z9UA_KO"
      },
      "source": [
        "##call_back"
      ]
    },
    {
      "cell_type": "code",
      "metadata": {
        "id": "gIn2xC0cyTKE"
      },
      "source": [
        "es = EarlyStopping(monitor='val_loss', mode='min', verbose=1, patience=4)\n",
        "mc = ModelCheckpoint(model_save_path, monitor='val_acc', mode='max', verbose=1, save_best_only=True)"
      ],
      "execution_count": 141,
      "outputs": []
    },
    {
      "cell_type": "markdown",
      "metadata": {
        "id": "XFPik0Q_BOxG"
      },
      "source": [
        "## modeling"
      ]
    },
    {
      "cell_type": "code",
      "metadata": {
        "colab": {
          "base_uri": "https://localhost:8080/"
        },
        "id": "4IpD6bk6vb__",
        "outputId": "1660bf91-5477-4c91-cdba-1475c6d6f21a"
      },
      "source": [
        "intent = pd.unique(df_train['label'])\n",
        "print(intent)\n",
        "intent_count = intent.shape[0]\n",
        "intent_count"
      ],
      "execution_count": 142,
      "outputs": [
        {
          "output_type": "stream",
          "text": [
            "[0 1 2 3 4 5 6]\n"
          ],
          "name": "stdout"
        },
        {
          "output_type": "execute_result",
          "data": {
            "text/plain": [
              "7"
            ]
          },
          "metadata": {
            "tags": []
          },
          "execution_count": 142
        }
      ]
    },
    {
      "cell_type": "code",
      "metadata": {
        "id": "bv6cg4lm_lI3"
      },
      "source": [
        "model = Sequential()\n",
        "model.add(Embedding(vocab_size, 120))\n",
        "model.add(LSTM(120))\n",
        "model.add(Dense(intent_count, activation='softmax'))"
      ],
      "execution_count": 143,
      "outputs": []
    },
    {
      "cell_type": "code",
      "metadata": {
        "id": "9DUfkdx5414j"
      },
      "source": [
        "model.compile(loss='categorical_crossentropy', optimizer='adam', metrics=['acc'])"
      ],
      "execution_count": 144,
      "outputs": []
    },
    {
      "cell_type": "code",
      "metadata": {
        "id": "XYFIYvKv43jt",
        "colab": {
          "base_uri": "https://localhost:8080/"
        },
        "outputId": "236da8af-762a-4589-c39e-7659287996e4"
      },
      "source": [
        "history = model.fit(x_data_train,\n",
        "                    y_data_train,\n",
        "                    batch_size = 10,\n",
        "                    epochs=20,\n",
        "                    callbacks=[es, mc],\n",
        "                    \n",
        "                    validation_data=(x_data_valid,\n",
        "                                     y_data_valid))"
      ],
      "execution_count": 145,
      "outputs": [
        {
          "output_type": "stream",
          "text": [
            "Epoch 1/20\n",
            "1/9 [==>...........................] - ETA: 0s - loss: 1.9395 - acc: 0.3000\n",
            "Epoch 00001: val_acc improved from -inf to 0.47368, saving model to /content/drive/MyDrive/Programming/Project/Hel_ri_celus (AI voice_bot for delivery_riders)/model/best_model.h5\n",
            "9/9 [==============================] - 3s 299ms/step - loss: 1.9120 - acc: 0.2759 - val_loss: 1.8524 - val_acc: 0.4737\n",
            "Epoch 2/20\n",
            "1/9 [==>...........................] - ETA: 0s - loss: 1.8105 - acc: 0.8000\n",
            "Epoch 00002: val_acc did not improve from 0.47368\n",
            "9/9 [==============================] - 0s 6ms/step - loss: 1.8104 - acc: 0.4483 - val_loss: 1.7420 - val_acc: 0.2105\n",
            "Epoch 3/20\n",
            "1/9 [==>...........................] - ETA: 0s - loss: 1.6920 - acc: 0.1000\n",
            "Epoch 00003: val_acc did not improve from 0.47368\n",
            "9/9 [==============================] - 0s 6ms/step - loss: 1.7335 - acc: 0.3563 - val_loss: 1.6554 - val_acc: 0.4737\n",
            "Epoch 4/20\n",
            "1/9 [==>...........................] - ETA: 0s - loss: 1.4127 - acc: 0.7000\n",
            "Epoch 00004: val_acc did not improve from 0.47368\n",
            "9/9 [==============================] - 0s 6ms/step - loss: 1.6074 - acc: 0.4713 - val_loss: 1.5459 - val_acc: 0.4737\n",
            "Epoch 5/20\n",
            "1/9 [==>...........................] - ETA: 0s - loss: 1.5787 - acc: 0.4000\n",
            "Epoch 00005: val_acc did not improve from 0.47368\n",
            "9/9 [==============================] - 0s 6ms/step - loss: 1.4771 - acc: 0.4828 - val_loss: 1.3641 - val_acc: 0.4737\n",
            "Epoch 6/20\n",
            "1/9 [==>...........................] - ETA: 0s - loss: 1.4320 - acc: 0.3000\n",
            "Epoch 00006: val_acc improved from 0.47368 to 0.52632, saving model to /content/drive/MyDrive/Programming/Project/Hel_ri_celus (AI voice_bot for delivery_riders)/model/best_model.h5\n",
            "9/9 [==============================] - 0s 10ms/step - loss: 1.2456 - acc: 0.5517 - val_loss: 1.0945 - val_acc: 0.5263\n",
            "Epoch 7/20\n",
            "1/9 [==>...........................] - ETA: 0s - loss: 1.5736 - acc: 0.3000\n",
            "Epoch 00007: val_acc improved from 0.52632 to 0.81579, saving model to /content/drive/MyDrive/Programming/Project/Hel_ri_celus (AI voice_bot for delivery_riders)/model/best_model.h5\n",
            "9/9 [==============================] - 0s 10ms/step - loss: 0.9631 - acc: 0.6322 - val_loss: 0.7665 - val_acc: 0.8158\n",
            "Epoch 8/20\n",
            "1/9 [==>...........................] - ETA: 0s - loss: 0.6474 - acc: 0.9000\n",
            "Epoch 00008: val_acc improved from 0.81579 to 0.89474, saving model to /content/drive/MyDrive/Programming/Project/Hel_ri_celus (AI voice_bot for delivery_riders)/model/best_model.h5\n",
            "9/9 [==============================] - 0s 10ms/step - loss: 0.6376 - acc: 0.8276 - val_loss: 0.4962 - val_acc: 0.8947\n",
            "Epoch 9/20\n",
            "1/9 [==>...........................] - ETA: 0s - loss: 0.4990 - acc: 0.8000\n",
            "Epoch 00009: val_acc improved from 0.89474 to 0.97368, saving model to /content/drive/MyDrive/Programming/Project/Hel_ri_celus (AI voice_bot for delivery_riders)/model/best_model.h5\n",
            "9/9 [==============================] - 0s 10ms/step - loss: 0.3987 - acc: 0.9540 - val_loss: 0.2852 - val_acc: 0.9737\n",
            "Epoch 10/20\n",
            "1/9 [==>...........................] - ETA: 0s - loss: 0.1602 - acc: 1.0000\n",
            "Epoch 00010: val_acc improved from 0.97368 to 1.00000, saving model to /content/drive/MyDrive/Programming/Project/Hel_ri_celus (AI voice_bot for delivery_riders)/model/best_model.h5\n",
            "9/9 [==============================] - 0s 10ms/step - loss: 0.2292 - acc: 0.9540 - val_loss: 0.1969 - val_acc: 1.0000\n",
            "Epoch 11/20\n",
            "1/9 [==>...........................] - ETA: 0s - loss: 0.1237 - acc: 1.0000\n",
            "Epoch 00011: val_acc did not improve from 1.00000\n",
            "9/9 [==============================] - 0s 6ms/step - loss: 0.1414 - acc: 1.0000 - val_loss: 0.1176 - val_acc: 1.0000\n",
            "Epoch 12/20\n",
            "1/9 [==>...........................] - ETA: 0s - loss: 0.1597 - acc: 1.0000\n",
            "Epoch 00012: val_acc did not improve from 1.00000\n",
            "9/9 [==============================] - 0s 6ms/step - loss: 0.0876 - acc: 1.0000 - val_loss: 0.0746 - val_acc: 1.0000\n",
            "Epoch 13/20\n",
            "1/9 [==>...........................] - ETA: 0s - loss: 0.0556 - acc: 1.0000\n",
            "Epoch 00013: val_acc did not improve from 1.00000\n",
            "9/9 [==============================] - 0s 6ms/step - loss: 0.0662 - acc: 1.0000 - val_loss: 0.0829 - val_acc: 0.9737\n",
            "Epoch 14/20\n",
            "1/9 [==>...........................] - ETA: 0s - loss: 0.0537 - acc: 1.0000\n",
            "Epoch 00014: val_acc did not improve from 1.00000\n",
            "9/9 [==============================] - 0s 6ms/step - loss: 0.0386 - acc: 1.0000 - val_loss: 0.0539 - val_acc: 0.9737\n",
            "Epoch 15/20\n",
            "1/9 [==>...........................] - ETA: 0s - loss: 0.0134 - acc: 1.0000\n",
            "Epoch 00015: val_acc did not improve from 1.00000\n",
            "9/9 [==============================] - 0s 6ms/step - loss: 0.0437 - acc: 0.9885 - val_loss: 0.0737 - val_acc: 0.9737\n",
            "Epoch 16/20\n",
            "1/9 [==>...........................] - ETA: 0s - loss: 0.0369 - acc: 1.0000\n",
            "Epoch 00016: val_acc did not improve from 1.00000\n",
            "9/9 [==============================] - 0s 6ms/step - loss: 0.0417 - acc: 1.0000 - val_loss: 0.0519 - val_acc: 1.0000\n",
            "Epoch 17/20\n",
            "1/9 [==>...........................] - ETA: 0s - loss: 0.0132 - acc: 1.0000\n",
            "Epoch 00017: val_acc did not improve from 1.00000\n",
            "9/9 [==============================] - 0s 6ms/step - loss: 0.0259 - acc: 1.0000 - val_loss: 0.0368 - val_acc: 1.0000\n",
            "Epoch 18/20\n",
            "1/9 [==>...........................] - ETA: 0s - loss: 0.0325 - acc: 1.0000\n",
            "Epoch 00018: val_acc did not improve from 1.00000\n",
            "9/9 [==============================] - 0s 6ms/step - loss: 0.0178 - acc: 1.0000 - val_loss: 0.0424 - val_acc: 0.9737\n",
            "Epoch 19/20\n",
            "1/9 [==>...........................] - ETA: 0s - loss: 0.0205 - acc: 1.0000\n",
            "Epoch 00019: val_acc did not improve from 1.00000\n",
            "9/9 [==============================] - 0s 6ms/step - loss: 0.0135 - acc: 1.0000 - val_loss: 0.0341 - val_acc: 1.0000\n",
            "Epoch 20/20\n",
            "1/9 [==>...........................] - ETA: 0s - loss: 0.0168 - acc: 1.0000\n",
            "Epoch 00020: val_acc did not improve from 1.00000\n",
            "9/9 [==============================] - 0s 6ms/step - loss: 0.0111 - acc: 1.0000 - val_loss: 0.0296 - val_acc: 1.0000\n"
          ],
          "name": "stdout"
        }
      ]
    },
    {
      "cell_type": "markdown",
      "metadata": {
        "id": "xW3tyDdlDMAV"
      },
      "source": [
        "# predict"
      ]
    },
    {
      "cell_type": "code",
      "metadata": {
        "id": "iL7MqmEm4-O9"
      },
      "source": [
        "def pred(input_data):\n",
        "    pred = model.predict(input_data)\n",
        "    pred_result = [np.argmax(i) for i in pred]\n",
        "    return pred_result"
      ],
      "execution_count": 146,
      "outputs": []
    },
    {
      "cell_type": "code",
      "metadata": {
        "id": "qIRuJB76Ux58",
        "colab": {
          "base_uri": "https://localhost:8080/"
        },
        "outputId": "a3744fea-41f9-463b-9c79-807e4cbb7e39"
      },
      "source": [
        "import sklearn\n",
        "print(sklearn.metrics.classification_report(df_test['label'],pred(test_padded)))"
      ],
      "execution_count": 147,
      "outputs": [
        {
          "output_type": "stream",
          "text": [
            "              precision    recall  f1-score   support\n",
            "\n",
            "           0       0.67      1.00      0.80         2\n",
            "           1       1.00      1.00      1.00         2\n",
            "           2       1.00      1.00      1.00         2\n",
            "           3       1.00      1.00      1.00         2\n",
            "           4       1.00      1.00      1.00         2\n",
            "           5       1.00      1.00      1.00         2\n",
            "           6       1.00      0.50      0.67         2\n",
            "\n",
            "    accuracy                           0.93        14\n",
            "   macro avg       0.95      0.93      0.92        14\n",
            "weighted avg       0.95      0.93      0.92        14\n",
            "\n"
          ],
          "name": "stdout"
        }
      ]
    }
  ]
}