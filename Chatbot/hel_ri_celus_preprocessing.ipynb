{
  "nbformat": 4,
  "nbformat_minor": 0,
  "metadata": {
    "colab": {
      "name": "hel_ri_celus_preprocessing",
      "provenance": [],
      "collapsed_sections": [
        "qlbKkYipU4Yl",
        "9GKIlxYKU_Yn",
        "4zgaRpQDdvXb",
        "kguP0dF4shL8",
        "ZJgn95TyX4JL",
        "xW3tyDdlDMAV"
      ],
      "toc_visible": true,
      "machine_shape": "hm"
    },
    "kernelspec": {
      "name": "python3",
      "display_name": "Python 3"
    },
    "accelerator": "GPU"
  },
  "cells": [
    {
      "cell_type": "markdown",
      "metadata": {
        "id": "qlbKkYipU4Yl"
      },
      "source": [
        "# lib & load_data"
      ]
    },
    {
      "cell_type": "code",
      "metadata": {
        "id": "WxNNJLVzm2Jn"
      },
      "source": [
        "!pip install git+https://github.com/ssut/py-hanspell.git"
      ],
      "execution_count": null,
      "outputs": []
    },
    {
      "cell_type": "code",
      "metadata": {
        "id": "Xitqi1G-o7HF"
      },
      "source": [
        "!pip install konlpy"
      ],
      "execution_count": null,
      "outputs": []
    },
    {
      "cell_type": "code",
      "metadata": {
        "id": "Cv54gM_7-3ui"
      },
      "source": [
        "import numpy as np\n",
        "import pandas as pd\n",
        "import tensorflow as tf\n",
        "from tensorflow.keras.datasets import reuters\n",
        "%matplotlib inline\n",
        "import matplotlib.pyplot as plt\n",
        "import seaborn as sns\n",
        "from sklearn.model_selection import train_test_split\n",
        "from konlpy.tag import Okt, Kkma\n",
        "okt = Okt()\n",
        "kkma = Kkma()\n",
        "from tensorflow.keras.preprocessing.sequence import pad_sequences\n",
        "from tensorflow.keras.preprocessing.text import Tokenizer\n",
        "import re\n",
        "from hanspell import spell_checker"
      ],
      "execution_count": null,
      "outputs": []
    },
    {
      "cell_type": "code",
      "metadata": {
        "id": "RzHmt72Qg_W0"
      },
      "source": [
        "df_train = pd.read_csv(\"/content/drive/MyDrive/Helricelus/data/train_data.csv\")\n",
        "df_test = pd.read_csv(\"/content/drive/MyDrive/Helricelus/data/test_data.csv\")\n"
      ],
      "execution_count": null,
      "outputs": []
    },
    {
      "cell_type": "markdown",
      "metadata": {
        "id": "fkHBqJjpU7yD"
      },
      "source": [
        "# 전처리"
      ]
    },
    {
      "cell_type": "markdown",
      "metadata": {
        "id": "9GKIlxYKU_Yn"
      },
      "source": [
        "## 정규 표현식으로 치환\n",
        "분, 주문번호 변환"
      ]
    },
    {
      "cell_type": "code",
      "metadata": {
        "id": "Q4iY6nV8hrx2"
      },
      "source": [
        "# 정규표현식 함수 정의\n",
        "\n",
        "def re_sub(df):\n",
        "    convert_ls =[]\n",
        "    for idx in (df['text']):\n",
        "        idx = re.sub(\"\\d\\d\\d\\d\",\" @\",idx)\n",
        "        idx = re.sub(\"\\d\\d분\",\" #분\",idx)\n",
        "        \n",
        "        ## 띄어쓰기, 맞춤법\n",
        "        spelled_sent = spell_checker.check(idx)\n",
        "        hanspell_sent = spelled_sent.checked\n",
        "        \n",
        "        convert_ls.append(hanspell_sent)\n",
        "\n",
        "    convert_txt = pd.Series(convert_ls, name = 'convert_ls')\n",
        "    df = pd.concat([df,convert_txt],axis = 1)\n",
        "\n",
        "    return df"
      ],
      "execution_count": null,
      "outputs": []
    },
    {
      "cell_type": "code",
      "metadata": {
        "id": "9WY-8mVhidQq"
      },
      "source": [
        "df_train = re_sub(df_train)\n",
        "df_test = re_sub(df_test)"
      ],
      "execution_count": null,
      "outputs": []
    },
    {
      "cell_type": "markdown",
      "metadata": {
        "id": "paXKMAtHdoqM"
      },
      "source": [
        "### train_data label 확인"
      ]
    },
    {
      "cell_type": "code",
      "metadata": {
        "id": "TsPwdwU0ZA9m"
      },
      "source": [
        "# label\n",
        "pd.Series.unique(df_train['intent'])"
      ],
      "execution_count": null,
      "outputs": []
    },
    {
      "cell_type": "markdown",
      "metadata": {
        "id": "Ao3cGm9EyXty"
      },
      "source": [
        "## 형태소로 분리 , df에 열로 추가"
      ]
    },
    {
      "cell_type": "markdown",
      "metadata": {
        "id": "4zgaRpQDdvXb"
      },
      "source": [
        "### tokenizer 테스트"
      ]
    },
    {
      "cell_type": "code",
      "metadata": {
        "id": "S7SuQ-EFkqvL"
      },
      "source": [
        "# okt_ls = []\n",
        "# for i in range(len(text_data)):\n",
        "#     okt_text = okt.pos(text_data['convert_ls'][i])\n",
        "#     okt_ls = okt_ls + okt_text\n",
        "\n",
        "# pd.unique(okt_ls)"
      ],
      "execution_count": null,
      "outputs": []
    },
    {
      "cell_type": "code",
      "metadata": {
        "id": "xIaU_-3zmT9X"
      },
      "source": [
        "# kkma_ls = []\n",
        "# for i in range(len(text_data)):\n",
        "#     kkma_text = kkma.pos(text_data['convert_ls'][i])\n",
        "#     kkma_ls = kkma_ls + kkma_text\n",
        "\n",
        "# pd.unique(kkma_ls)"
      ],
      "execution_count": null,
      "outputs": []
    },
    {
      "cell_type": "markdown",
      "metadata": {
        "id": "kguP0dF4shL8"
      },
      "source": [
        "### kkma가 더 적합해보임\n",
        "\n",
        "토큰화 / 불용어 제거 / token_len_max"
      ]
    },
    {
      "cell_type": "code",
      "metadata": {
        "id": "XL1lW7wrgI0S"
      },
      "source": [
        "# okt 토큰화 함수정의\n",
        "valid_pos = ['NNG','VV','SW', 'NNG','MAG']\n",
        "def okt_tokenizer(input_df,valid_pos):\n",
        "    input_df['token_text'] = np.nan\n",
        "\n",
        "    token_ls =[]\n",
        "    for i in range(len(input_df)):\n",
        "        \n",
        "        # tokenize\n",
        "        token_text = kkma.pos(input_df['convert_ls'][i])\n",
        "        \n",
        "        # 불용어 제거\n",
        "        ls = []\n",
        "        for token in token_text:\n",
        "            \n",
        "            if token[1] in valid_pos:\n",
        "                ls.append(token[0])\n",
        "                token_ls.append(token[0])\n",
        "            \n",
        "            input_df['token_text'][i] = ls"
      ],
      "execution_count": null,
      "outputs": []
    },
    {
      "cell_type": "code",
      "metadata": {
        "id": "pFPLS6YJhOjm"
      },
      "source": [
        "okt_tokenizer(df_train,valid_pos)\n",
        "okt_tokenizer(df_test,valid_pos)"
      ],
      "execution_count": null,
      "outputs": []
    },
    {
      "cell_type": "markdown",
      "metadata": {
        "id": "ZJgn95TyX4JL"
      },
      "source": [
        "## 정수 인코딩"
      ]
    },
    {
      "cell_type": "code",
      "metadata": {
        "id": "ay8M8AIrrYeM"
      },
      "source": [
        "# 토크나이저 최적화\n",
        "token_ls = []\n",
        "\n",
        "for i in range(len(df_train)):\n",
        "    \n",
        "    token_ls = token_ls + df_train['token_text'][i]\n",
        "\n",
        "token_ls = pd.Series(token_ls)\n",
        "\n",
        "# tokenizer fit\n",
        "tokenizer = Tokenizer()\n",
        "tokenizer.fit_on_texts(token_ls)\n",
        "\n",
        "vocab_size = len(pd.unique(token_ls))\n",
        "\n",
        "token_ls.to_csv(\"/content/drive/MyDrive/Helricelus/token_ls.csv\")"
      ],
      "execution_count": null,
      "outputs": []
    },
    {
      "cell_type": "code",
      "metadata": {
        "id": "AW-dArz7sCs0"
      },
      "source": [
        "## df의 정수인코딩 column 생성 및 반영 함수화\n",
        "\n",
        "\n",
        "def int_encode(df, token_ls):\n",
        "\n",
        "    tokenizer.fit_on_texts(token_ls)\n",
        "\n",
        "    df['integer_encode'] = np.nan\n",
        "    \n",
        "    for i in range(len(df)):\n",
        "        \n",
        "        # integer encode\n",
        "        seq = tokenizer.texts_to_sequences(df['token_text'])\n",
        "\n",
        "        df['integer_encode'] = seq"
      ],
      "execution_count": null,
      "outputs": []
    },
    {
      "cell_type": "code",
      "metadata": {
        "id": "sxuA9_Uwsyjl"
      },
      "source": [
        "int_encode(df_train,token_ls = token_ls)\n",
        "int_encode(df_test,token_ls = token_ls)"
      ],
      "execution_count": null,
      "outputs": []
    },
    {
      "cell_type": "markdown",
      "metadata": {
        "id": "2E3C6je4wsoo"
      },
      "source": [
        "## 패딩"
      ]
    },
    {
      "cell_type": "code",
      "metadata": {
        "id": "RBC9y3WjwwPu"
      },
      "source": [
        "df_train = df_train[['integer_encode','label']]\n",
        "df_test = df_test[['integer_encode','label']]\n"
      ],
      "execution_count": 75,
      "outputs": []
    },
    {
      "cell_type": "code",
      "metadata": {
        "id": "zX_xFf0A7kRN"
      },
      "source": [
        "max_len = 8\n",
        "\n",
        "train_padded = pad_sequences(df_train['integer_encode'], maxlen=max_len)\n",
        "test_padded = pad_sequences(df_test['integer_encode'], maxlen=max_len)"
      ],
      "execution_count": null,
      "outputs": []
    },
    {
      "cell_type": "markdown",
      "metadata": {
        "id": "jVj-tCR4w53H"
      },
      "source": [
        "# train_test_split"
      ]
    },
    {
      "cell_type": "code",
      "metadata": {
        "id": "bqCLFUBOt3ZS"
      },
      "source": [
        "x_data_train,x_data_valid, y_data_train, y_data_valid = \\\n",
        "train_test_split(train_padded,\n",
        "                 df_train['label'],\n",
        "                 test_size=0.3,\n",
        "                 random_state=0,\n",
        "                 shuffle = True)"
      ],
      "execution_count": 78,
      "outputs": []
    },
    {
      "cell_type": "code",
      "metadata": {
        "id": "c8h_funSt-SC"
      },
      "source": [
        ""
      ],
      "execution_count": null,
      "outputs": []
    },
    {
      "cell_type": "code",
      "metadata": {
        "id": "pKSuQQtEoPWK"
      },
      "source": [
        "# x_data_train,x_data_valid, y_data_train, y_data_valid = \\\n",
        "# train_test_split(df_train.drop('label', axis=1, inplace=False),\n",
        "#                  train_data['label'],\n",
        "#                  test_size=0.3,\n",
        "#                  random_state=0,\n",
        "#                  shuffle = True)"
      ],
      "execution_count": null,
      "outputs": []
    },
    {
      "cell_type": "markdown",
      "metadata": {
        "id": "Zj_YeBJMw0mS"
      },
      "source": [
        "# Modeling"
      ]
    },
    {
      "cell_type": "code",
      "metadata": {
        "id": "eUaP_oyKxIvD"
      },
      "source": [
        "from tensorflow.keras.models import Sequential\n",
        "from tensorflow.keras.layers import Dense, LSTM, Embedding, SimpleRNN\n",
        "from tensorflow.keras.preprocessing.sequence import pad_sequences\n",
        "from tensorflow.keras.callbacks import EarlyStopping, ModelCheckpoint\n",
        "from tensorflow.keras.models import load_model"
      ],
      "execution_count": null,
      "outputs": []
    },
    {
      "cell_type": "markdown",
      "metadata": {
        "id": "qpHHsdO49Ry_"
      },
      "source": [
        "## label one_hot_encoding"
      ]
    },
    {
      "cell_type": "code",
      "metadata": {
        "id": "0vmPsON77eJa"
      },
      "source": [
        "from tensorflow.keras.utils import to_categorical\n",
        "\n",
        "y_data_train = to_categorical(y_data_train) # 훈련용 레이블의 원-핫 인코딩\n",
        "y_data_valid = to_categorical(y_data_valid) # valid용 레이블의 원-핫 인코딩"
      ],
      "execution_count": null,
      "outputs": []
    },
    {
      "cell_type": "markdown",
      "metadata": {
        "id": "WUOd7Z9UA_KO"
      },
      "source": [
        "##call_back"
      ]
    },
    {
      "cell_type": "code",
      "metadata": {
        "id": "gIn2xC0cyTKE"
      },
      "source": [
        "es = EarlyStopping(monitor='val_loss', mode='min', verbose=1, patience=4)\n",
        "mc = ModelCheckpoint('best_model.h5', monitor='val_acc', mode='max', verbose=1, save_best_only=True)"
      ],
      "execution_count": null,
      "outputs": []
    },
    {
      "cell_type": "markdown",
      "metadata": {
        "id": "XFPik0Q_BOxG"
      },
      "source": [
        "## modeling"
      ]
    },
    {
      "cell_type": "code",
      "metadata": {
        "colab": {
          "base_uri": "https://localhost:8080/"
        },
        "id": "4IpD6bk6vb__",
        "outputId": "4769899f-433a-43d4-9676-7adae78b0cb7"
      },
      "source": [
        "intent = pd.unique(train_data['label'])\n",
        "print(intent)\n",
        "intent_count = intent.shape[0]\n",
        "intent_count"
      ],
      "execution_count": 81,
      "outputs": [
        {
          "output_type": "stream",
          "text": [
            "[0 1 2 3 4 5 6]\n"
          ],
          "name": "stdout"
        },
        {
          "output_type": "execute_result",
          "data": {
            "text/plain": [
              "7"
            ]
          },
          "metadata": {
            "tags": []
          },
          "execution_count": 81
        }
      ]
    },
    {
      "cell_type": "code",
      "metadata": {
        "id": "bv6cg4lm_lI3"
      },
      "source": [
        "model = Sequential()\n",
        "model.add(Embedding(vocab_size, 120))\n",
        "model.add(LSTM(120))\n",
        "model.add(Dense(intent_count, activation='softmax'))"
      ],
      "execution_count": null,
      "outputs": []
    },
    {
      "cell_type": "code",
      "metadata": {
        "id": "9DUfkdx5414j"
      },
      "source": [
        "model.compile(loss='categorical_crossentropy', optimizer='adam', metrics=['acc'])"
      ],
      "execution_count": null,
      "outputs": []
    },
    {
      "cell_type": "code",
      "metadata": {
        "id": "XYFIYvKv43jt"
      },
      "source": [
        "history = model.fit(x_data_train,\n",
        "                    y_data_train,\n",
        "                    batch_size = 10,\n",
        "                    epochs=10,\n",
        "                    callbacks=[es, mc],\n",
        "                    validation_data=(x_data_valid,\n",
        "                                     y_data_valid))"
      ],
      "execution_count": null,
      "outputs": []
    },
    {
      "cell_type": "markdown",
      "metadata": {
        "id": "xW3tyDdlDMAV"
      },
      "source": [
        "# predict"
      ]
    },
    {
      "cell_type": "code",
      "metadata": {
        "id": "iL7MqmEm4-O9"
      },
      "source": [
        "pred = model.predict(test_padded)\n",
        "y_pred = [np.argmax(i) for i in pred]"
      ],
      "execution_count": null,
      "outputs": []
    },
    {
      "cell_type": "code",
      "metadata": {
        "colab": {
          "base_uri": "https://localhost:8080/"
        },
        "id": "fs39qzYvuR06",
        "outputId": "5e8f7bfe-7464-4d6b-a300-43bcc6f6bc33"
      },
      "source": [
        ""
      ],
      "execution_count": 93,
      "outputs": [
        {
          "output_type": "execute_result",
          "data": {
            "text/plain": [
              "0     0\n",
              "1     0\n",
              "2     1\n",
              "3     1\n",
              "4     2\n",
              "5     2\n",
              "6     3\n",
              "7     3\n",
              "8     4\n",
              "9     4\n",
              "10    5\n",
              "11    5\n",
              "12    0\n",
              "13    6\n",
              "dtype: int64"
            ]
          },
          "metadata": {
            "tags": []
          },
          "execution_count": 93
        }
      ]
    },
    {
      "cell_type": "code",
      "metadata": {
        "colab": {
          "base_uri": "https://localhost:8080/",
          "height": 483
        },
        "id": "ZEGZZqtkukJP",
        "outputId": "591d7856-56ab-430d-8114-f7106ef4f2e9"
      },
      "source": [
        "pd.concat([test_data,pd.Series(y_pred,name= 'prediction')],axis=1)"
      ],
      "execution_count": 95,
      "outputs": [
        {
          "output_type": "execute_result",
          "data": {
            "text/html": [
              "<div>\n",
              "<style scoped>\n",
              "    .dataframe tbody tr th:only-of-type {\n",
              "        vertical-align: middle;\n",
              "    }\n",
              "\n",
              "    .dataframe tbody tr th {\n",
              "        vertical-align: top;\n",
              "    }\n",
              "\n",
              "    .dataframe thead th {\n",
              "        text-align: right;\n",
              "    }\n",
              "</style>\n",
              "<table border=\"1\" class=\"dataframe\">\n",
              "  <thead>\n",
              "    <tr style=\"text-align: right;\">\n",
              "      <th></th>\n",
              "      <th>padded</th>\n",
              "      <th>label</th>\n",
              "      <th>prediction</th>\n",
              "    </tr>\n",
              "  </thead>\n",
              "  <tbody>\n",
              "    <tr>\n",
              "      <th>0</th>\n",
              "      <td>[0, 0, 0, 0, 0, 0, 13, 15]</td>\n",
              "      <td>0</td>\n",
              "      <td>0</td>\n",
              "    </tr>\n",
              "    <tr>\n",
              "      <th>1</th>\n",
              "      <td>[0, 0, 0, 0, 0, 0, 3, 15]</td>\n",
              "      <td>0</td>\n",
              "      <td>0</td>\n",
              "    </tr>\n",
              "    <tr>\n",
              "      <th>2</th>\n",
              "      <td>[0, 0, 0, 0, 0, 0, 5, 7]</td>\n",
              "      <td>1</td>\n",
              "      <td>1</td>\n",
              "    </tr>\n",
              "    <tr>\n",
              "      <th>3</th>\n",
              "      <td>[0, 0, 0, 0, 0, 0, 4, 7]</td>\n",
              "      <td>1</td>\n",
              "      <td>1</td>\n",
              "    </tr>\n",
              "    <tr>\n",
              "      <th>4</th>\n",
              "      <td>[0, 0, 0, 0, 0, 0, 4, 17]</td>\n",
              "      <td>2</td>\n",
              "      <td>2</td>\n",
              "    </tr>\n",
              "    <tr>\n",
              "      <th>5</th>\n",
              "      <td>[0, 0, 0, 0, 0, 0, 5, 1]</td>\n",
              "      <td>2</td>\n",
              "      <td>2</td>\n",
              "    </tr>\n",
              "    <tr>\n",
              "      <th>6</th>\n",
              "      <td>[0, 0, 0, 0, 0, 0, 14, 9]</td>\n",
              "      <td>3</td>\n",
              "      <td>3</td>\n",
              "    </tr>\n",
              "    <tr>\n",
              "      <th>7</th>\n",
              "      <td>[0, 0, 0, 0, 0, 0, 0, 14]</td>\n",
              "      <td>3</td>\n",
              "      <td>3</td>\n",
              "    </tr>\n",
              "    <tr>\n",
              "      <th>8</th>\n",
              "      <td>[0, 0, 0, 0, 0, 0, 11, 2]</td>\n",
              "      <td>4</td>\n",
              "      <td>4</td>\n",
              "    </tr>\n",
              "    <tr>\n",
              "      <th>9</th>\n",
              "      <td>[0, 0, 0, 0, 0, 0, 0, 10]</td>\n",
              "      <td>4</td>\n",
              "      <td>4</td>\n",
              "    </tr>\n",
              "    <tr>\n",
              "      <th>10</th>\n",
              "      <td>[0, 0, 0, 0, 0, 16, 19, 1]</td>\n",
              "      <td>5</td>\n",
              "      <td>5</td>\n",
              "    </tr>\n",
              "    <tr>\n",
              "      <th>11</th>\n",
              "      <td>[0, 0, 0, 0, 0, 16, 19, 1]</td>\n",
              "      <td>5</td>\n",
              "      <td>5</td>\n",
              "    </tr>\n",
              "    <tr>\n",
              "      <th>12</th>\n",
              "      <td>[0, 0, 0, 0, 0, 0, 0, 3]</td>\n",
              "      <td>6</td>\n",
              "      <td>0</td>\n",
              "    </tr>\n",
              "    <tr>\n",
              "      <th>13</th>\n",
              "      <td>[0, 0, 0, 0, 0, 0, 3, 9]</td>\n",
              "      <td>6</td>\n",
              "      <td>6</td>\n",
              "    </tr>\n",
              "  </tbody>\n",
              "</table>\n",
              "</div>"
            ],
            "text/plain": [
              "                        padded  label  prediction\n",
              "0   [0, 0, 0, 0, 0, 0, 13, 15]      0           0\n",
              "1    [0, 0, 0, 0, 0, 0, 3, 15]      0           0\n",
              "2     [0, 0, 0, 0, 0, 0, 5, 7]      1           1\n",
              "3     [0, 0, 0, 0, 0, 0, 4, 7]      1           1\n",
              "4    [0, 0, 0, 0, 0, 0, 4, 17]      2           2\n",
              "5     [0, 0, 0, 0, 0, 0, 5, 1]      2           2\n",
              "6    [0, 0, 0, 0, 0, 0, 14, 9]      3           3\n",
              "7    [0, 0, 0, 0, 0, 0, 0, 14]      3           3\n",
              "8    [0, 0, 0, 0, 0, 0, 11, 2]      4           4\n",
              "9    [0, 0, 0, 0, 0, 0, 0, 10]      4           4\n",
              "10  [0, 0, 0, 0, 0, 16, 19, 1]      5           5\n",
              "11  [0, 0, 0, 0, 0, 16, 19, 1]      5           5\n",
              "12    [0, 0, 0, 0, 0, 0, 0, 3]      6           0\n",
              "13    [0, 0, 0, 0, 0, 0, 3, 9]      6           6"
            ]
          },
          "metadata": {
            "tags": []
          },
          "execution_count": 95
        }
      ]
    },
    {
      "cell_type": "code",
      "metadata": {
        "id": "qIRuJB76Ux58"
      },
      "source": [
        "import sklearn\n",
        "print(sklearn.metrics.classification_report(test_data['label'],y_pred))"
      ],
      "execution_count": null,
      "outputs": []
    },
    {
      "cell_type": "code",
      "metadata": {
        "id": "HZBveB3nvZiN"
      },
      "source": [
        ""
      ],
      "execution_count": null,
      "outputs": []
    }
  ]
}