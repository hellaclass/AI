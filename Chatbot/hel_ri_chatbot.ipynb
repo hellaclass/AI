{
  "nbformat": 4,
  "nbformat_minor": 0,
  "metadata": {
    "colab": {
      "name": "hel_ri_chatbot.ipynb",
      "provenance": [],
      "collapsed_sections": []
    },
    "kernelspec": {
      "name": "python3",
      "display_name": "Python 3"
    }
  },
  "cells": [
    {
      "cell_type": "code",
      "metadata": {
        "id": "xMFamy3WbsNo"
      },
      "source": [
        "#spell_checker\n",
        "!pip install git+https://github.com/ssut/py-hanspell.git\n",
        "\n",
        "!pip install konlpy\n"
      ],
      "execution_count": null,
      "outputs": []
    },
    {
      "cell_type": "code",
      "metadata": {
        "id": "CxsXksI-a3xM",
        "colab": {
          "base_uri": "https://localhost:8080/"
        },
        "outputId": "69e0d973-a4c0-4631-c229-a614eb967b62"
      },
      "source": [
        "from google.colab import drive\n",
        "drive.mount('/content/drive')"
      ],
      "execution_count": 16,
      "outputs": [
        {
          "output_type": "stream",
          "text": [
            "Drive already mounted at /content/drive; to attempt to forcibly remount, call drive.mount(\"/content/drive\", force_remount=True).\n"
          ],
          "name": "stdout"
        }
      ]
    },
    {
      "cell_type": "code",
      "metadata": {
        "id": "8D7JfRIuXkhX"
      },
      "source": [
        "#lib\n",
        "\n",
        "import re\n",
        "\n",
        "import pickle\n",
        "\n",
        "from hanspell import spell_checker\n",
        "from konlpy.tag import Kkma\n",
        "\n",
        "import pandas as pd\n",
        "import numpy as np\n",
        "\n",
        "import tensorflow as tf\n",
        "from tensorflow.keras.preprocessing.text import Tokenizer\n",
        "from tensorflow.keras.preprocessing.sequence import pad_sequences\n",
        "from keras.models import load_model"
      ],
      "execution_count": 17,
      "outputs": []
    },
    {
      "cell_type": "code",
      "metadata": {
        "id": "v10jv7DhRvFZ"
      },
      "source": [
        "# word_to_index path\n",
        "word_to_index_path = '/content/drive/MyDrive/Project/Hel_ri_celus (AI voice_bot for delivery_riders)/Chatbot/data/word_to_index.pkl'\n",
        "\n",
        "# model_path\n",
        "model_path = '/content/drive/MyDrive/Project/Hel_ri_celus (AI voice_bot for delivery_riders)/Chatbot/model/best_model.h5'\n",
        "model = load_model(model_path)"
      ],
      "execution_count": 18,
      "outputs": []
    },
    {
      "cell_type": "code",
      "metadata": {
        "id": "ZADalzTCLJ2I"
      },
      "source": [
        "# 정규표현식 함수 정의\n",
        "\n",
        "def re_sub(self):\n",
        "    \n",
        "    sample = re.sub(r',', '', self)\n",
        "    self= re.sub(r'(.)(\\d)\\s(\\d)\\s(\\d)\\s(\\d)', r'\\1\\2\\3\\4\\5', sample)\n",
        "\n",
        "    self = re.sub(\"\\d\\d\\d\\d\",\" @\",self)\n",
        "    self = re.sub(\"\\d\\d분\",\" #분\",self)\n",
        "\n",
        "    return self"
      ],
      "execution_count": 19,
      "outputs": []
    },
    {
      "cell_type": "code",
      "metadata": {
        "id": "MLNKB6MiXMKU"
      },
      "source": [
        "## 띄어쓰기, 맞춤법\n",
        "def check_spell(self):\n",
        "    \n",
        "    spelled_sent = spell_checker.check(self)\n",
        "    self = spelled_sent.checked\n",
        "\n",
        "    return self"
      ],
      "execution_count": 20,
      "outputs": []
    },
    {
      "cell_type": "code",
      "metadata": {
        "id": "WmsZcSzsZoLM"
      },
      "source": [
        "# kkma 형태소 토큰화 함수정의\n",
        "def kkma_tokenizer(self):\n",
        "    kkma = Kkma()\n",
        "    valid_pos = ['NNG','VV','SW','MAG']\n",
        "\n",
        "    # tokenize\n",
        "    token_text = kkma.pos(self)\n",
        "    \n",
        "    # 불용어 제거\n",
        "    ls = []\n",
        "    for token in token_text:\n",
        "        \n",
        "        if token[1] in valid_pos:\n",
        "            ls.append(token[0])\n",
        "        \n",
        "    self = ls\n",
        "\n",
        "    return self"
      ],
      "execution_count": 21,
      "outputs": []
    },
    {
      "cell_type": "code",
      "metadata": {
        "id": "47JDSSKmN-8u"
      },
      "source": [
        "## df의 정수인코딩 column 생성 및 반영 함수화\n",
        "# tokenizer.fit_on_texts 에서 특수문자 @,# 을 자체적으로 없앰, 이 부분 보완 필요\n",
        "\n",
        "def int_encode(self):\n",
        "    \n",
        "    # word_to_index 불러오기\n",
        "    wti = open(word_to_index_path, 'rb')\n",
        "    word_to_index = pickle.load(wti)\n",
        "    \n",
        "    # 토크나이저 최적화\n",
        "    tokenizer = Tokenizer()\n",
        "    tokenizer.word_index = word_to_index\n",
        "\n",
        "    seq = tokenizer.texts_to_sequences(self)\n",
        "\n",
        "    ls = sum(seq,[])\n",
        "\n",
        "    self = ls\n",
        "\n",
        "    \n",
        "    return self"
      ],
      "execution_count": 22,
      "outputs": []
    },
    {
      "cell_type": "code",
      "metadata": {
        "id": "7bcQO0EQMpkJ"
      },
      "source": [
        "def padding(self):\n",
        "    max_len = 8\n",
        "\n",
        "    pad = [0]*(max_len-len(self))\n",
        "    self = pad + self\n",
        "\n",
        "    return self"
      ],
      "execution_count": 23,
      "outputs": []
    },
    {
      "cell_type": "code",
      "metadata": {
        "id": "ZEkyqyKMPkjx"
      },
      "source": [
        "def pred(self):\n",
        "\n",
        "    self = np.array(self).reshape(-1,8)\n",
        "\n",
        "    \n",
        "    pred = model.predict(self)\n",
        "\n",
        "    \n",
        "    if np.max(pred[0]) < 0.3:\n",
        "        self = 99\n",
        "    else:\n",
        "        self = np.argmax(pred)\n",
        "\n",
        "    return self"
      ],
      "execution_count": 24,
      "outputs": []
    },
    {
      "cell_type": "code",
      "metadata": {
        "id": "Kj6Erx6jXZUd"
      },
      "source": [
        "def start_predict(self):\n",
        "    \n",
        "    re_self = re_sub(self)\n",
        "\n",
        "    re_self = check_spell(re_self)\n",
        "    \n",
        "    re_self = kkma_tokenizer(re_self)\n",
        "    \n",
        "    re_self = int_encode(re_self)\n",
        "    \n",
        "    intent = {0:'운행시작', 1:'가게전화',2:'가게도착',3:'픽업완료',4:'영수증번호',5:'소요시간선택', 6:'배달완료', 99:'fallback_intent'}\n",
        "\n",
        "    if self == []:\n",
        "        result = 99\n",
        "    else:\n",
        "        pad_self = padding(re_self)\n",
        "        result = pred(pad_self)\n",
        "\n",
        "    if result ==4:\n",
        "        strip = re.sub(' +', '', self)\n",
        "        numbers = re.findall(\"\\d+\",strip)[0]\n",
        "        print(strip)\n",
        "        print(numbers)\n",
        "        if len(numbers) != 4:\n",
        "            numbers = [99]\n",
        "    else:\n",
        "        numbers = 0\n",
        "\n",
        "    return result,intent[result],self,numbers"
      ],
      "execution_count": 140,
      "outputs": []
    },
    {
      "cell_type": "code",
      "metadata": {
        "id": "rR7j4iS9Ym52"
      },
      "source": [
        "m =  re.search(\"\\d\\d\\d\\d\",strip)"
      ],
      "execution_count": null,
      "outputs": []
    },
    {
      "cell_type": "code",
      "metadata": {
        "id": "r20HZS89NgB-",
        "colab": {
          "base_uri": "https://localhost:8080/"
        },
        "outputId": "97f291fd-d785-4581-8f78-0c403cb46b14"
      },
      "source": [
        "%%time\n",
        "text = \"운행시작할게\"\n",
        "print(start_predict(text))"
      ],
      "execution_count": 108,
      "outputs": [
        {
          "output_type": "stream",
          "text": [
            "(0, '운행시작', '운행시작할게', 0)\n",
            "CPU times: user 112 ms, sys: 969 µs, total: 113 ms\n",
            "Wall time: 192 ms\n"
          ],
          "name": "stdout"
        }
      ]
    },
    {
      "cell_type": "code",
      "metadata": {
        "colab": {
          "base_uri": "https://localhost:8080/"
        },
        "id": "U4qRU9YdRl1i",
        "outputId": "21aa7a0a-0c6f-4f95-ec17-5699e7ba796b"
      },
      "source": [
        "%%time\r\n",
        "text = \"주문번호는300 3이야\"\r\n",
        "print(start_predict(text))"
      ],
      "execution_count": 141,
      "outputs": [
        {
          "output_type": "stream",
          "text": [
            "주문번호는3003이야\n",
            "3003\n",
            "(4, '영수증번호', '주문번호는300 3이야', '3003')\n",
            "CPU times: user 48.2 ms, sys: 5.25 ms, total: 53.5 ms\n",
            "Wall time: 187 ms\n"
          ],
          "name": "stdout"
        }
      ]
    },
    {
      "cell_type": "code",
      "metadata": {
        "id": "0MOtmQPPUz5I"
      },
      "source": [
        ""
      ],
      "execution_count": 104,
      "outputs": []
    }
  ]
}