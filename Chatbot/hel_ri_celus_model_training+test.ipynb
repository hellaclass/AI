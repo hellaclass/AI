{
  "nbformat": 4,
  "nbformat_minor": 0,
  "metadata": {
    "colab": {
      "name": "hel_ri_celus_model_training+test.ipynb",
      "provenance": [],
      "collapsed_sections": [
        "4zgaRpQDdvXb",
        "kguP0dF4shL8"
      ],
      "toc_visible": true,
      "machine_shape": "hm"
    },
    "kernelspec": {
      "name": "python3",
      "display_name": "Python 3"
    },
    "accelerator": "GPU"
  },
  "cells": [
    {
      "cell_type": "markdown",
      "metadata": {
        "id": "WGO07lIw1kG9"
      },
      "source": [
        "# Code for model training & test"
      ]
    },
    {
      "cell_type": "markdown",
      "metadata": {
        "id": "qlbKkYipU4Yl"
      },
      "source": [
        "# lib & load_data"
      ]
    },
    {
      "cell_type": "code",
      "metadata": {
        "colab": {
          "base_uri": "https://localhost:8080/"
        },
        "id": "yLUeFcl6FWua",
        "outputId": "57aee7af-a620-44e5-a92c-80c4a1048f82"
      },
      "source": [
        "from google.colab import drive\n",
        "drive.mount('/content/drive')"
      ],
      "execution_count": null,
      "outputs": [
        {
          "output_type": "stream",
          "text": [
            "Mounted at /content/drive\n"
          ],
          "name": "stdout"
        }
      ]
    },
    {
      "cell_type": "code",
      "metadata": {
        "id": "WxNNJLVzm2Jn",
        "colab": {
          "base_uri": "https://localhost:8080/"
        },
        "outputId": "a363f43e-5aa9-4096-901f-957a0dce1cb1"
      },
      "source": [
        "#### installation ###\n",
        "\n",
        "!pip install git+https://github.com/ssut/py-hanspell.git\n",
        "!pip install konlpy"
      ],
      "execution_count": null,
      "outputs": [
        {
          "output_type": "stream",
          "text": [
            "Collecting git+https://github.com/ssut/py-hanspell.git\n",
            "  Cloning https://github.com/ssut/py-hanspell.git to /tmp/pip-req-build-j7jwokqh\n",
            "  Running command git clone -q https://github.com/ssut/py-hanspell.git /tmp/pip-req-build-j7jwokqh\n",
            "Requirement already satisfied (use --upgrade to upgrade): py-hanspell==1.1 from git+https://github.com/ssut/py-hanspell.git in /usr/local/lib/python3.6/dist-packages\n",
            "Requirement already satisfied: requests in /usr/local/lib/python3.6/dist-packages (from py-hanspell==1.1) (2.23.0)\n",
            "Requirement already satisfied: certifi>=2017.4.17 in /usr/local/lib/python3.6/dist-packages (from requests->py-hanspell==1.1) (2020.12.5)\n",
            "Requirement already satisfied: urllib3!=1.25.0,!=1.25.1,<1.26,>=1.21.1 in /usr/local/lib/python3.6/dist-packages (from requests->py-hanspell==1.1) (1.24.3)\n",
            "Requirement already satisfied: idna<3,>=2.5 in /usr/local/lib/python3.6/dist-packages (from requests->py-hanspell==1.1) (2.10)\n",
            "Requirement already satisfied: chardet<4,>=3.0.2 in /usr/local/lib/python3.6/dist-packages (from requests->py-hanspell==1.1) (3.0.4)\n",
            "Building wheels for collected packages: py-hanspell\n",
            "  Building wheel for py-hanspell (setup.py) ... \u001b[?25l\u001b[?25hdone\n",
            "  Created wheel for py-hanspell: filename=py_hanspell-1.1-cp36-none-any.whl size=4854 sha256=df1a56814ab13131fdd8037687d66c55236122f2133090e8c4b68add4c9c994b\n",
            "  Stored in directory: /tmp/pip-ephem-wheel-cache-z_fzl4cd/wheels/0a/25/d1/e5e96476dbb1c318cc26c992dd493394fe42b0c204b3e65588\n",
            "Successfully built py-hanspell\n",
            "Requirement already satisfied: konlpy in /usr/local/lib/python3.6/dist-packages (0.5.2)\n",
            "Requirement already satisfied: lxml>=4.1.0 in /usr/local/lib/python3.6/dist-packages (from konlpy) (4.2.6)\n",
            "Requirement already satisfied: numpy>=1.6 in /usr/local/lib/python3.6/dist-packages (from konlpy) (1.18.5)\n",
            "Requirement already satisfied: tweepy>=3.7.0 in /usr/local/lib/python3.6/dist-packages (from konlpy) (3.9.0)\n",
            "Requirement already satisfied: JPype1>=0.7.0 in /usr/local/lib/python3.6/dist-packages (from konlpy) (1.2.0)\n",
            "Requirement already satisfied: beautifulsoup4==4.6.0 in /usr/local/lib/python3.6/dist-packages (from konlpy) (4.6.0)\n",
            "Requirement already satisfied: colorama in /usr/local/lib/python3.6/dist-packages (from konlpy) (0.4.4)\n",
            "Requirement already satisfied: six>=1.10.0 in /usr/local/lib/python3.6/dist-packages (from tweepy>=3.7.0->konlpy) (1.15.0)\n",
            "Requirement already satisfied: requests[socks]>=2.11.1 in /usr/local/lib/python3.6/dist-packages (from tweepy>=3.7.0->konlpy) (2.23.0)\n",
            "Requirement already satisfied: requests-oauthlib>=0.7.0 in /usr/local/lib/python3.6/dist-packages (from tweepy>=3.7.0->konlpy) (1.3.0)\n",
            "Requirement already satisfied: typing-extensions; python_version < \"3.8\" in /usr/local/lib/python3.6/dist-packages (from JPype1>=0.7.0->konlpy) (3.7.4.3)\n",
            "Requirement already satisfied: idna<3,>=2.5 in /usr/local/lib/python3.6/dist-packages (from requests[socks]>=2.11.1->tweepy>=3.7.0->konlpy) (2.10)\n",
            "Requirement already satisfied: certifi>=2017.4.17 in /usr/local/lib/python3.6/dist-packages (from requests[socks]>=2.11.1->tweepy>=3.7.0->konlpy) (2020.12.5)\n",
            "Requirement already satisfied: chardet<4,>=3.0.2 in /usr/local/lib/python3.6/dist-packages (from requests[socks]>=2.11.1->tweepy>=3.7.0->konlpy) (3.0.4)\n",
            "Requirement already satisfied: urllib3!=1.25.0,!=1.25.1,<1.26,>=1.21.1 in /usr/local/lib/python3.6/dist-packages (from requests[socks]>=2.11.1->tweepy>=3.7.0->konlpy) (1.24.3)\n",
            "Requirement already satisfied: PySocks!=1.5.7,>=1.5.6; extra == \"socks\" in /usr/local/lib/python3.6/dist-packages (from requests[socks]>=2.11.1->tweepy>=3.7.0->konlpy) (1.7.1)\n",
            "Requirement already satisfied: oauthlib>=3.0.0 in /usr/local/lib/python3.6/dist-packages (from requests-oauthlib>=0.7.0->tweepy>=3.7.0->konlpy) (3.1.0)\n"
          ],
          "name": "stdout"
        }
      ]
    },
    {
      "cell_type": "code",
      "metadata": {
        "id": "Cv54gM_7-3ui"
      },
      "source": [
        "import numpy as np\n",
        "import pandas as pd\n",
        "import tensorflow as tf\n",
        "from tensorflow.keras.datasets import reuters\n",
        "%matplotlib inline\n",
        "import matplotlib.pyplot as plt\n",
        "import seaborn as sns\n",
        "from sklearn.model_selection import train_test_split\n",
        "from konlpy.tag import Okt, Kkma\n",
        "okt = Okt()\n",
        "kkma = Kkma()\n",
        "from tensorflow.keras.preprocessing.sequence import pad_sequences\n",
        "from tensorflow.keras.preprocessing.text import Tokenizer\n",
        "import re\n",
        "from hanspell import spell_checker"
      ],
      "execution_count": null,
      "outputs": []
    },
    {
      "cell_type": "markdown",
      "metadata": {
        "id": "M_g2attpzpQr"
      },
      "source": [
        "## path setting"
      ]
    },
    {
      "cell_type": "code",
      "metadata": {
        "id": "eD0cMKN20N9Y"
      },
      "source": [
        "train_data_path = \"/content/drive/MyDrive/Project/Hel_ri_celus (AI voice_bot for delivery_riders)/Chatbot/data/train_data.csv\"\n",
        "test_data_path = \"/content/drive/MyDrive/Project/Hel_ri_celus (AI voice_bot for delivery_riders)/Chatbot/data/test_data.csv\"\n",
        "\n",
        "word_to_index_save_path = \"/content/drive/MyDrive/Project/Hel_ri_celus (AI voice_bot for delivery_riders)/Chatbot/data/\"\n",
        "\n",
        "model_save_path = '/content/drive/MyDrive/Project/Hel_ri_celus (AI voice_bot for delivery_riders)/Chatbot/model/best_model.h5'\n"
      ],
      "execution_count": null,
      "outputs": []
    },
    {
      "cell_type": "markdown",
      "metadata": {
        "id": "fkHBqJjpU7yD"
      },
      "source": [
        "# Preprocessing"
      ]
    },
    {
      "cell_type": "code",
      "metadata": {
        "id": "RzHmt72Qg_W0"
      },
      "source": [
        "df_train = pd.read_csv(train_data_path)\n",
        "df_test = pd.read_csv(test_data_path)"
      ],
      "execution_count": null,
      "outputs": []
    },
    {
      "cell_type": "markdown",
      "metadata": {
        "id": "9GKIlxYKU_Yn"
      },
      "source": [
        "## 정규 표현식으로 치환\n",
        "분, 주문번호 변환"
      ]
    },
    {
      "cell_type": "code",
      "metadata": {
        "id": "Q4iY6nV8hrx2"
      },
      "source": [
        "# 정규표현식 함수 정의\n",
        "\n",
        "def re_sub(df):\n",
        "    convert_ls =[]\n",
        "    for idx in (df['text']):\n",
        "        sample = idx = re.sub(r',', '', idx)\n",
        "        idx = re.sub(r'(.)(\\d)\\s(\\d)\\s(\\d)\\s(\\d)', r'\\1\\2\\3\\4\\5', sample)\n",
        "        idx = re.sub(\"\\d\\d\\d\\d\",\" @\",idx)\n",
        "        idx = re.sub(\"\\d\\d분\",\" #분\",idx)\n",
        "        \n",
        "        ## 띄어쓰기, 맞춤법\n",
        "        spelled_sent = spell_checker.check(idx)\n",
        "        hanspell_sent = spelled_sent.checked\n",
        "        \n",
        "        convert_ls.append(hanspell_sent)\n",
        "\n",
        "    convert_txt = pd.Series(convert_ls, name = 'convert_ls')\n",
        "    df = pd.concat([df,convert_txt],axis = 1)\n",
        "\n",
        "    return df"
      ],
      "execution_count": null,
      "outputs": []
    },
    {
      "cell_type": "code",
      "metadata": {
        "id": "9WY-8mVhidQq"
      },
      "source": [
        "df_train = re_sub(df_train)\n",
        "df_test = re_sub(df_test)"
      ],
      "execution_count": null,
      "outputs": []
    },
    {
      "cell_type": "code",
      "metadata": {
        "colab": {
          "base_uri": "https://localhost:8080/",
          "height": 419
        },
        "id": "iGGTCnkAd47L",
        "outputId": "498fcf76-4a6a-4d41-9d2e-c50fa0618897"
      },
      "source": [
        "display(df_train)"
      ],
      "execution_count": null,
      "outputs": [
        {
          "output_type": "display_data",
          "data": {
            "text/html": [
              "<div>\n",
              "<style scoped>\n",
              "    .dataframe tbody tr th:only-of-type {\n",
              "        vertical-align: middle;\n",
              "    }\n",
              "\n",
              "    .dataframe tbody tr th {\n",
              "        vertical-align: top;\n",
              "    }\n",
              "\n",
              "    .dataframe thead th {\n",
              "        text-align: right;\n",
              "    }\n",
              "</style>\n",
              "<table border=\"1\" class=\"dataframe\">\n",
              "  <thead>\n",
              "    <tr style=\"text-align: right;\">\n",
              "      <th></th>\n",
              "      <th>Unnamed: 0</th>\n",
              "      <th>text</th>\n",
              "      <th>intent</th>\n",
              "      <th>label</th>\n",
              "      <th>convert_ls</th>\n",
              "    </tr>\n",
              "  </thead>\n",
              "  <tbody>\n",
              "    <tr>\n",
              "      <th>0</th>\n",
              "      <td>352</td>\n",
              "      <td>뒷자리 746</td>\n",
              "      <td>영수증번호</td>\n",
              "      <td>4</td>\n",
              "      <td>뒷자리 746</td>\n",
              "    </tr>\n",
              "    <tr>\n",
              "      <th>1</th>\n",
              "      <td>370</td>\n",
              "      <td>30분 뒤 도착</td>\n",
              "      <td>소요시간선택</td>\n",
              "      <td>5</td>\n",
              "      <td>#분 뒤 도착</td>\n",
              "    </tr>\n",
              "    <tr>\n",
              "      <th>2</th>\n",
              "      <td>305</td>\n",
              "      <td>가게 도착</td>\n",
              "      <td>가게도착</td>\n",
              "      <td>2</td>\n",
              "      <td>가게 도착</td>\n",
              "    </tr>\n",
              "    <tr>\n",
              "      <th>3</th>\n",
              "      <td>90</td>\n",
              "      <td>음식점에 왔어</td>\n",
              "      <td>가게도착</td>\n",
              "      <td>2</td>\n",
              "      <td>음식점에 왔어</td>\n",
              "    </tr>\n",
              "    <tr>\n",
              "      <th>4</th>\n",
              "      <td>350</td>\n",
              "      <td>주문 번호 7614</td>\n",
              "      <td>영수증번호</td>\n",
              "      <td>4</td>\n",
              "      <td>주문 번호  @</td>\n",
              "    </tr>\n",
              "    <tr>\n",
              "      <th>...</th>\n",
              "      <td>...</td>\n",
              "      <td>...</td>\n",
              "      <td>...</td>\n",
              "      <td>...</td>\n",
              "      <td>...</td>\n",
              "    </tr>\n",
              "    <tr>\n",
              "      <th>512</th>\n",
              "      <td>129</td>\n",
              "      <td>주문번호 9972</td>\n",
              "      <td>영수증번호</td>\n",
              "      <td>4</td>\n",
              "      <td>주문번호  @</td>\n",
              "    </tr>\n",
              "    <tr>\n",
              "      <th>513</th>\n",
              "      <td>144</td>\n",
              "      <td>뒷자리 4334</td>\n",
              "      <td>영수증번호</td>\n",
              "      <td>4</td>\n",
              "      <td>뒷자리  @</td>\n",
              "    </tr>\n",
              "    <tr>\n",
              "      <th>514</th>\n",
              "      <td>72</td>\n",
              "      <td>식당도착했어</td>\n",
              "      <td>가게도착</td>\n",
              "      <td>2</td>\n",
              "      <td>식당 도착했어</td>\n",
              "    </tr>\n",
              "    <tr>\n",
              "      <th>515</th>\n",
              "      <td>235</td>\n",
              "      <td>배달 완료 했어</td>\n",
              "      <td>배달완료</td>\n",
              "      <td>6</td>\n",
              "      <td>배달 완료했어</td>\n",
              "    </tr>\n",
              "    <tr>\n",
              "      <th>516</th>\n",
              "      <td>37</td>\n",
              "      <td>배달을 시작해주세요</td>\n",
              "      <td>운행시작</td>\n",
              "      <td>0</td>\n",
              "      <td>배달을 시작해주세요</td>\n",
              "    </tr>\n",
              "  </tbody>\n",
              "</table>\n",
              "<p>517 rows × 5 columns</p>\n",
              "</div>"
            ],
            "text/plain": [
              "     Unnamed: 0        text  intent  label  convert_ls\n",
              "0           352     뒷자리 746   영수증번호      4     뒷자리 746\n",
              "1           370    30분 뒤 도착  소요시간선택      5     #분 뒤 도착\n",
              "2           305       가게 도착    가게도착      2       가게 도착\n",
              "3            90     음식점에 왔어    가게도착      2     음식점에 왔어\n",
              "4           350  주문 번호 7614   영수증번호      4    주문 번호  @\n",
              "..          ...         ...     ...    ...         ...\n",
              "512         129   주문번호 9972   영수증번호      4     주문번호  @\n",
              "513         144    뒷자리 4334   영수증번호      4      뒷자리  @\n",
              "514          72      식당도착했어    가게도착      2     식당 도착했어\n",
              "515         235    배달 완료 했어    배달완료      6     배달 완료했어\n",
              "516          37  배달을 시작해주세요    운행시작      0  배달을 시작해주세요\n",
              "\n",
              "[517 rows x 5 columns]"
            ]
          },
          "metadata": {
            "tags": []
          }
        }
      ]
    },
    {
      "cell_type": "markdown",
      "metadata": {
        "id": "paXKMAtHdoqM"
      },
      "source": [
        "### train_data label 확인"
      ]
    },
    {
      "cell_type": "code",
      "metadata": {
        "id": "TsPwdwU0ZA9m",
        "colab": {
          "base_uri": "https://localhost:8080/"
        },
        "outputId": "0c8e0c1f-5107-4bf3-d8b4-c0898c8bdd89"
      },
      "source": [
        "# label\n",
        "pd.Series.unique(df_train['intent'])"
      ],
      "execution_count": null,
      "outputs": [
        {
          "output_type": "execute_result",
          "data": {
            "text/plain": [
              "array(['영수증번호', '소요시간선택', '가게도착', '운행시작', '배달완료', '픽업완료', '가게전화', '소요시간'],\n",
              "      dtype=object)"
            ]
          },
          "metadata": {
            "tags": []
          },
          "execution_count": 13
        }
      ]
    },
    {
      "cell_type": "markdown",
      "metadata": {
        "id": "Ao3cGm9EyXty"
      },
      "source": [
        "## 형태소로 분리 , df에 열로 추가"
      ]
    },
    {
      "cell_type": "markdown",
      "metadata": {
        "id": "4zgaRpQDdvXb"
      },
      "source": [
        "### tokenizer 테스트"
      ]
    },
    {
      "cell_type": "code",
      "metadata": {
        "id": "S7SuQ-EFkqvL"
      },
      "source": [
        "# okt_ls = []\n",
        "# for i in range(len(text_data)):\n",
        "#     okt_text = okt.pos(text_data['convert_ls'][i])\n",
        "#     okt_ls = okt_ls + okt_text\n",
        "\n",
        "# pd.unique(okt_ls)"
      ],
      "execution_count": null,
      "outputs": []
    },
    {
      "cell_type": "code",
      "metadata": {
        "id": "xIaU_-3zmT9X"
      },
      "source": [
        "# kkma_ls = []\n",
        "# for i in range(len(text_data)):\n",
        "#     kkma_text = kkma.pos(text_data['convert_ls'][i])\n",
        "#     kkma_ls = kkma_ls + kkma_text\n",
        "\n",
        "# pd.unique(kkma_ls)"
      ],
      "execution_count": null,
      "outputs": []
    },
    {
      "cell_type": "markdown",
      "metadata": {
        "id": "kguP0dF4shL8"
      },
      "source": [
        "### kkma가 더 적합해보임\n",
        "\n",
        "토큰화 / 불용어 제거 / token_len_max"
      ]
    },
    {
      "cell_type": "code",
      "metadata": {
        "id": "XL1lW7wrgI0S"
      },
      "source": [
        "# kkma 토큰화 함수정의\n",
        "\n",
        "def kkma_tokenizer(input_df):\n",
        "    \n",
        "    valid_pos = ['NNG','VV','SW','MAG']\n",
        "    \n",
        "    input_df['token_text'] = np.nan\n",
        "\n",
        "    for i in range(len(input_df)):\n",
        "        \n",
        "        # tokenize\n",
        "        token_text = kkma.pos(input_df['convert_ls'][i])\n",
        "        \n",
        "        # 불용어 제거\n",
        "        ls = []\n",
        "        for token in token_text:\n",
        "            if token[1] in valid_pos:\n",
        "                ls.append(token[0])\n",
        "            \n",
        "            input_df['token_text'][i] = ls"
      ],
      "execution_count": null,
      "outputs": []
    },
    {
      "cell_type": "code",
      "metadata": {
        "id": "pFPLS6YJhOjm",
        "colab": {
          "base_uri": "https://localhost:8080/"
        },
        "outputId": "4cff2dfd-931c-4afb-a913-2957135229e0"
      },
      "source": [
        "kkma_tokenizer(df_train)\n",
        "kkma_tokenizer(df_test)"
      ],
      "execution_count": null,
      "outputs": [
        {
          "output_type": "stream",
          "text": [
            "/usr/local/lib/python3.6/dist-packages/ipykernel_launcher.py:20: SettingWithCopyWarning: \n",
            "A value is trying to be set on a copy of a slice from a DataFrame\n",
            "\n",
            "See the caveats in the documentation: https://pandas.pydata.org/pandas-docs/stable/user_guide/indexing.html#returning-a-view-versus-a-copy\n",
            "/usr/local/lib/python3.6/dist-packages/pandas/core/indexing.py:670: SettingWithCopyWarning: \n",
            "A value is trying to be set on a copy of a slice from a DataFrame\n",
            "\n",
            "See the caveats in the documentation: https://pandas.pydata.org/pandas-docs/stable/user_guide/indexing.html#returning-a-view-versus-a-copy\n",
            "  iloc._setitem_with_indexer(indexer, value)\n"
          ],
          "name": "stderr"
        }
      ]
    },
    {
      "cell_type": "markdown",
      "metadata": {
        "id": "ZJgn95TyX4JL"
      },
      "source": [
        "## Interer encode"
      ]
    },
    {
      "cell_type": "code",
      "metadata": {
        "id": "l8hPLUpMGlj_"
      },
      "source": [
        "# save & load word_to_index\n",
        "\n",
        "import pickle\n",
        "\n",
        "def save_obj(obj, name ):\n",
        "    with open(word_to_index_save_path + name + '.pkl', 'wb') as f:\n",
        "        pickle.dump(obj, f, pickle.HIGHEST_PROTOCOL)\n"
      ],
      "execution_count": null,
      "outputs": []
    },
    {
      "cell_type": "code",
      "metadata": {
        "id": "ay8M8AIrrYeM"
      },
      "source": [
        "# 토크나이저 최적화\n",
        "from collections import Counter\n",
        "\n",
        "token_ls = []\n",
        "vocab = Counter()\n",
        "\n",
        "for i in range(len(df_train)):\n",
        "    \n",
        "    token_ls = token_ls + df_train['token_text'][i]\n",
        "\n",
        "token_ls = pd.Series(token_ls, name = 'token')\n",
        "\n",
        "result = []\n",
        "\n",
        "# 형태소 개수 count: vocab\n",
        "for word in token_ls:\n",
        "    result.append(word) \n",
        "    vocab[word] = vocab[word]+1 # 각 단어의 빈도를 Count한다\n",
        "\n",
        "# vocab안에서 정렬\n",
        "vocab_sorted = sorted(vocab.items(), key=lambda x:x[1], reverse=True)\n",
        "vocab_sorted\n",
        "\n",
        "# word to_index 만들기\n",
        "word_to_index = {}\n",
        "i = 0\n",
        "for (word, frequency) in vocab_sorted:\n",
        "    if frequency > 1: # 빈도수가 적은 단어는 제외\n",
        "        i += 1\n",
        "        word_to_index[word] = i\n",
        "\n",
        "\n",
        "# 글자 묶음 크기\n",
        "vocab_size = len(word_to_index)+1\n",
        "\n",
        "# word to index 저장\n",
        "save_obj(word_to_index, 'word_to_index')"
      ],
      "execution_count": null,
      "outputs": []
    },
    {
      "cell_type": "code",
      "metadata": {
        "id": "AW-dArz7sCs0"
      },
      "source": [
        "## df의 정수인코딩 column 생성 및 반영 함수화\n",
        "\n",
        "def int_encode(df):\n",
        "    tokenizer = Tokenizer()\n",
        "    tokenizer.word_index = word_to_index\n",
        "\n",
        "    df['integer_encode'] = np.nan\n",
        "    \n",
        "    for i in range(len(df)):\n",
        "        \n",
        "        # integer encode\n",
        "        seq = tokenizer.texts_to_sequences(df['token_text'])\n",
        "\n",
        "        df['integer_encode'] = seq"
      ],
      "execution_count": null,
      "outputs": []
    },
    {
      "cell_type": "code",
      "metadata": {
        "id": "sxuA9_Uwsyjl"
      },
      "source": [
        "int_encode(df_train)\n",
        "int_encode(df_test)"
      ],
      "execution_count": null,
      "outputs": []
    },
    {
      "cell_type": "code",
      "metadata": {
        "id": "Qb-q9UF4ef9C"
      },
      "source": [
        "df_train.to_excel('./df_train_sample.xlsx')"
      ],
      "execution_count": null,
      "outputs": []
    },
    {
      "cell_type": "markdown",
      "metadata": {
        "id": "2E3C6je4wsoo"
      },
      "source": [
        "## Padding"
      ]
    },
    {
      "cell_type": "code",
      "metadata": {
        "id": "RBC9y3WjwwPu"
      },
      "source": [
        "df_train_for_padded = df_train[['integer_encode','label']]\n",
        "df_test_for_padded = df_test[['integer_encode','label']]"
      ],
      "execution_count": null,
      "outputs": []
    },
    {
      "cell_type": "code",
      "metadata": {
        "id": "zX_xFf0A7kRN"
      },
      "source": [
        "max_len = 8\n",
        "\n",
        "train_padded = pad_sequences(df_train_for_padded['integer_encode'], maxlen=max_len)\n",
        "test_padded = pad_sequences(df_test_for_padded['integer_encode'], maxlen=max_len)"
      ],
      "execution_count": null,
      "outputs": []
    },
    {
      "cell_type": "markdown",
      "metadata": {
        "id": "jVj-tCR4w53H"
      },
      "source": [
        "# train_test_split"
      ]
    },
    {
      "cell_type": "code",
      "metadata": {
        "id": "bqCLFUBOt3ZS"
      },
      "source": [
        "x_data_train,x_data_valid, y_data_train, y_data_valid = \\\n",
        "train_test_split(train_padded,\n",
        "                 df_train['label'],\n",
        "                 test_size=0.3,\n",
        "                 random_state=0,\n",
        "                 shuffle = True)"
      ],
      "execution_count": null,
      "outputs": []
    },
    {
      "cell_type": "markdown",
      "metadata": {
        "id": "Zj_YeBJMw0mS"
      },
      "source": [
        "# Modeling"
      ]
    },
    {
      "cell_type": "code",
      "metadata": {
        "id": "eUaP_oyKxIvD"
      },
      "source": [
        "from tensorflow.keras.models import Sequential\n",
        "from tensorflow.keras.layers import Dense, LSTM, Embedding, SimpleRNN\n",
        "from tensorflow.keras.preprocessing.sequence import pad_sequences\n",
        "from tensorflow.keras.callbacks import EarlyStopping, ModelCheckpoint\n",
        "from tensorflow.keras.models import load_model"
      ],
      "execution_count": null,
      "outputs": []
    },
    {
      "cell_type": "markdown",
      "metadata": {
        "id": "qpHHsdO49Ry_"
      },
      "source": [
        "## label one_hot_encoding"
      ]
    },
    {
      "cell_type": "code",
      "metadata": {
        "id": "0vmPsON77eJa"
      },
      "source": [
        "from tensorflow.keras.utils import to_categorical\n",
        "\n",
        "y_data_train_one_hot = to_categorical(y_data_train) # 훈련용 레이블의 원-핫 인코딩\n",
        "y_data_valid_one_hot = to_categorical(y_data_valid) # valid용 레이블의 원-핫 인코딩"
      ],
      "execution_count": null,
      "outputs": []
    },
    {
      "cell_type": "markdown",
      "metadata": {
        "id": "WUOd7Z9UA_KO"
      },
      "source": [
        "##call_back"
      ]
    },
    {
      "cell_type": "code",
      "metadata": {
        "id": "gIn2xC0cyTKE"
      },
      "source": [
        "es = EarlyStopping(monitor='val_loss', mode='min', verbose=1, patience=4)\n",
        "mc = ModelCheckpoint(model_save_path, monitor='val_acc', mode='max', verbose=1, save_best_only=True)"
      ],
      "execution_count": null,
      "outputs": []
    },
    {
      "cell_type": "markdown",
      "metadata": {
        "id": "XFPik0Q_BOxG"
      },
      "source": [
        "## modeling"
      ]
    },
    {
      "cell_type": "code",
      "metadata": {
        "colab": {
          "base_uri": "https://localhost:8080/"
        },
        "id": "4IpD6bk6vb__",
        "outputId": "8358a2a2-e133-432d-ac95-e538082c5947"
      },
      "source": [
        "intent = pd.unique(df_train['label'])\n",
        "print(intent)\n",
        "intent_count = intent.shape[0]\n",
        "intent_count"
      ],
      "execution_count": null,
      "outputs": [
        {
          "output_type": "stream",
          "text": [
            "[4 5 2 0 6 3 1]\n"
          ],
          "name": "stdout"
        },
        {
          "output_type": "execute_result",
          "data": {
            "text/plain": [
              "7"
            ]
          },
          "metadata": {
            "tags": []
          },
          "execution_count": 149
        }
      ]
    },
    {
      "cell_type": "code",
      "metadata": {
        "id": "bv6cg4lm_lI3"
      },
      "source": [
        "model = Sequential()\n",
        "model.add(Embedding(vocab_size, 120))\n",
        "model.add(LSTM(120))\n",
        "model.add(Dense(intent_count, activation='softmax'))"
      ],
      "execution_count": null,
      "outputs": []
    },
    {
      "cell_type": "code",
      "metadata": {
        "id": "9DUfkdx5414j"
      },
      "source": [
        "model.compile(loss='categorical_crossentropy', optimizer='adam', metrics=['acc'])"
      ],
      "execution_count": null,
      "outputs": []
    },
    {
      "cell_type": "code",
      "metadata": {
        "id": "XYFIYvKv43jt",
        "colab": {
          "base_uri": "https://localhost:8080/",
          "height": 1000
        },
        "outputId": "d8148f75-5121-457e-9290-46e6e1adc0be"
      },
      "source": [
        "history = model.fit(x_data_train,\n",
        "                    y_data_train_one_hot,\n",
        "                    batch_size = 20,\n",
        "                    epochs=20,\n",
        "                    callbacks=[es, mc],\n",
        "                    \n",
        "                    validation_data=(x_data_valid,\n",
        "                                     y_data_valid_one_hot))\n",
        "\n",
        "\n",
        "# 학습 정확성 값과 검증 정확성 값을 플롯팅 합니다. \n",
        "plt.plot(history.history['acc'])\n",
        "plt.plot(history.history['val_acc'])\n",
        "plt.title('Model accuracy')\n",
        "plt.ylabel('Accuracy')\n",
        "plt.xlabel('Epoch')\n",
        "plt.legend(['Train', 'Valid'], loc='upper left')\n",
        "plt.show()\n",
        "\n",
        "# 학습 손실 값과 검증 손실 값을 플롯팅 합니다.\n",
        "plt.plot(history.history['loss'])\n",
        "plt.plot(history.history['val_loss'])\n",
        "plt.title('Model loss')\n",
        "plt.ylabel('Loss')\n",
        "plt.xlabel('Epoch')\n",
        "plt.legend(['Train', 'Valid'], loc='upper left')\n",
        "plt.show()\n",
        "\n",
        "import sklearn\n",
        "y_val_series = pd.Series(y_data_valid)\n",
        "print(sklearn.metrics.classification_report(y_val_series,pred(x_data_valid)))"
      ],
      "execution_count": null,
      "outputs": [
        {
          "output_type": "stream",
          "text": [
            "Epoch 1/20\n",
            "12/19 [=================>............] - ETA: 0s - loss: 1.9101 - acc: 0.2042\n",
            "Epoch 00001: val_acc improved from -inf to 0.37179, saving model to /content/drive/MyDrive/Project/Hel_ri_celus (AI voice_bot for delivery_riders)/Chatbot/model/best_model.h5\n",
            "19/19 [==============================] - 2s 88ms/step - loss: 1.8719 - acc: 0.2798 - val_loss: 1.7403 - val_acc: 0.3718\n",
            "Epoch 2/20\n",
            "12/19 [=================>............] - ETA: 0s - loss: 1.6852 - acc: 0.4625\n",
            "Epoch 00002: val_acc improved from 0.37179 to 0.62179, saving model to /content/drive/MyDrive/Project/Hel_ri_celus (AI voice_bot for delivery_riders)/Chatbot/model/best_model.h5\n",
            "19/19 [==============================] - 0s 8ms/step - loss: 1.6639 - acc: 0.4931 - val_loss: 1.4646 - val_acc: 0.6218\n",
            "Epoch 3/20\n",
            "12/19 [=================>............] - ETA: 0s - loss: 1.3718 - acc: 0.6667\n",
            "Epoch 00003: val_acc improved from 0.62179 to 0.71795, saving model to /content/drive/MyDrive/Project/Hel_ri_celus (AI voice_bot for delivery_riders)/Chatbot/model/best_model.h5\n",
            "19/19 [==============================] - 0s 9ms/step - loss: 1.2891 - acc: 0.6565 - val_loss: 0.8294 - val_acc: 0.7179\n",
            "Epoch 4/20\n",
            "12/19 [=================>............] - ETA: 0s - loss: 0.7070 - acc: 0.8125\n",
            "Epoch 00004: val_acc improved from 0.71795 to 0.94872, saving model to /content/drive/MyDrive/Project/Hel_ri_celus (AI voice_bot for delivery_riders)/Chatbot/model/best_model.h5\n",
            "19/19 [==============================] - 0s 9ms/step - loss: 0.6469 - acc: 0.8283 - val_loss: 0.3888 - val_acc: 0.9487\n",
            "Epoch 5/20\n",
            "12/19 [=================>............] - ETA: 0s - loss: 0.3131 - acc: 0.9625\n",
            "Epoch 00005: val_acc improved from 0.94872 to 0.98718, saving model to /content/drive/MyDrive/Project/Hel_ri_celus (AI voice_bot for delivery_riders)/Chatbot/model/best_model.h5\n",
            "19/19 [==============================] - 0s 8ms/step - loss: 0.2813 - acc: 0.9668 - val_loss: 0.1528 - val_acc: 0.9872\n",
            "Epoch 6/20\n",
            "12/19 [=================>............] - ETA: 0s - loss: 0.1376 - acc: 0.9833\n",
            "Epoch 00006: val_acc did not improve from 0.98718\n",
            "19/19 [==============================] - 0s 6ms/step - loss: 0.1391 - acc: 0.9806 - val_loss: 0.1298 - val_acc: 0.9679\n",
            "Epoch 7/20\n",
            "12/19 [=================>............] - ETA: 0s - loss: 0.1367 - acc: 0.9667\n",
            "Epoch 00007: val_acc did not improve from 0.98718\n",
            "19/19 [==============================] - 0s 6ms/step - loss: 0.1063 - acc: 0.9778 - val_loss: 0.0939 - val_acc: 0.9744\n",
            "Epoch 8/20\n",
            "13/19 [===================>..........] - ETA: 0s - loss: 0.0497 - acc: 0.9923\n",
            "Epoch 00008: val_acc did not improve from 0.98718\n",
            "19/19 [==============================] - 0s 6ms/step - loss: 0.0656 - acc: 0.9834 - val_loss: 0.0674 - val_acc: 0.9808\n",
            "Epoch 9/20\n",
            "12/19 [=================>............] - ETA: 0s - loss: 0.0688 - acc: 0.9917\n",
            "Epoch 00009: val_acc did not improve from 0.98718\n",
            "19/19 [==============================] - 0s 6ms/step - loss: 0.0632 - acc: 0.9917 - val_loss: 0.0839 - val_acc: 0.9808\n",
            "Epoch 10/20\n",
            "13/19 [===================>..........] - ETA: 0s - loss: 0.0583 - acc: 0.9885\n",
            "Epoch 00010: val_acc did not improve from 0.98718\n",
            "19/19 [==============================] - 0s 6ms/step - loss: 0.0599 - acc: 0.9861 - val_loss: 0.0499 - val_acc: 0.9808\n",
            "Epoch 11/20\n",
            "13/19 [===================>..........] - ETA: 0s - loss: 0.0519 - acc: 0.9808\n",
            "Epoch 00011: val_acc did not improve from 0.98718\n",
            "19/19 [==============================] - 0s 6ms/step - loss: 0.0473 - acc: 0.9806 - val_loss: 0.0528 - val_acc: 0.9808\n",
            "Epoch 12/20\n",
            "13/19 [===================>..........] - ETA: 0s - loss: 0.0635 - acc: 0.9846\n",
            "Epoch 00012: val_acc did not improve from 0.98718\n",
            "19/19 [==============================] - 0s 6ms/step - loss: 0.0591 - acc: 0.9861 - val_loss: 0.0466 - val_acc: 0.9808\n",
            "Epoch 13/20\n",
            "12/19 [=================>............] - ETA: 0s - loss: 0.0414 - acc: 0.9875\n",
            "Epoch 00013: val_acc did not improve from 0.98718\n",
            "19/19 [==============================] - 0s 6ms/step - loss: 0.0458 - acc: 0.9861 - val_loss: 0.0551 - val_acc: 0.9808\n",
            "Epoch 14/20\n",
            "12/19 [=================>............] - ETA: 0s - loss: 0.0395 - acc: 0.9792\n",
            "Epoch 00014: val_acc did not improve from 0.98718\n",
            "19/19 [==============================] - 0s 6ms/step - loss: 0.0421 - acc: 0.9806 - val_loss: 0.0510 - val_acc: 0.9808\n",
            "Epoch 15/20\n",
            "12/19 [=================>............] - ETA: 0s - loss: 0.0250 - acc: 0.9958\n",
            "Epoch 00015: val_acc did not improve from 0.98718\n",
            "19/19 [==============================] - 0s 6ms/step - loss: 0.0381 - acc: 0.9917 - val_loss: 0.0521 - val_acc: 0.9808\n",
            "Epoch 16/20\n",
            "12/19 [=================>............] - ETA: 0s - loss: 0.0408 - acc: 0.9875\n",
            "Epoch 00016: val_acc did not improve from 0.98718\n",
            "19/19 [==============================] - 0s 7ms/step - loss: 0.0397 - acc: 0.9861 - val_loss: 0.0507 - val_acc: 0.9808\n",
            "Epoch 00016: early stopping\n"
          ],
          "name": "stdout"
        },
        {
          "output_type": "display_data",
          "data": {
            "image/png": "[encoded data removed]",
            "text/plain": [
              "<Figure size 432x288 with 1 Axes>"
            ]
          },
          "metadata": {
            "tags": [],
            "needs_background": "light"
          }
        },
        {
          "output_type": "display_data",
          "data": {
            "image/png": "[encoded data removed]",
            "text/plain": [
              "<Figure size 432x288 with 1 Axes>"
            ]
          },
          "metadata": {
            "tags": [],
            "needs_background": "light"
          }
        },
        {
          "output_type": "stream",
          "text": [
            "              precision    recall  f1-score   support\n",
            "\n",
            "           0       1.00      0.96      0.98        27\n",
            "           1       1.00      1.00      1.00        20\n",
            "           2       1.00      1.00      1.00        37\n",
            "           3       1.00      0.88      0.94        17\n",
            "           4       0.92      1.00      0.96        34\n",
            "           5       1.00      1.00      1.00        11\n",
            "           6       1.00      1.00      1.00        10\n",
            "\n",
            "    accuracy                           0.98       156\n",
            "   macro avg       0.99      0.98      0.98       156\n",
            "weighted avg       0.98      0.98      0.98       156\n",
            "\n"
          ],
          "name": "stdout"
        }
      ]
    },
    {
      "cell_type": "markdown",
      "metadata": {
        "id": "xW3tyDdlDMAV"
      },
      "source": [
        "# predict"
      ]
    },
    {
      "cell_type": "code",
      "metadata": {
        "id": "yX0HXyNXaA08"
      },
      "source": [
        "def pred(self):\r\n",
        "    \r\n",
        "    pred = model.predict(self)\r\n",
        "    \r\n",
        "    pred_result =[]\r\n",
        "    for i in pred:\r\n",
        "       \r\n",
        "        if np.max(i) < 0.3:\r\n",
        "            label = 99\r\n",
        "        else:\r\n",
        "            label = np.argmax(i)\r\n",
        "        \r\n",
        "        pred_result.append(label)\r\n",
        "\r\n",
        "    return pred_result"
      ],
      "execution_count": null,
      "outputs": []
    },
    {
      "cell_type": "code",
      "metadata": {
        "id": "Wd3ghR5pQQ00",
        "colab": {
          "base_uri": "https://localhost:8080/"
        },
        "outputId": "46ed2b1d-bbda-4a8b-ac24-06d473e580f3"
      },
      "source": [
        "import sklearn\r\n",
        "print(sklearn.metrics.classification_report(df_test['label'],pred(test_padded)))"
      ],
      "execution_count": null,
      "outputs": [
        {
          "output_type": "stream",
          "text": [
            "              precision    recall  f1-score   support\n",
            "\n",
            "           0       1.00      1.00      1.00        23\n",
            "           1       1.00      1.00      1.00        25\n",
            "           2       1.00      0.95      0.98        21\n",
            "           3       0.93      1.00      0.96        13\n",
            "           4       0.93      1.00      0.97        28\n",
            "           5       1.00      0.67      0.80         9\n",
            "           6       1.00      0.82      0.90        11\n",
            "          99       0.00      0.00      0.00         0\n",
            "\n",
            "    accuracy                           0.95       130\n",
            "   macro avg       0.86      0.80      0.83       130\n",
            "weighted avg       0.98      0.95      0.96       130\n",
            "\n"
          ],
          "name": "stdout"
        },
        {
          "output_type": "stream",
          "text": [
            "/usr/local/lib/python3.6/dist-packages/sklearn/metrics/_classification.py:1272: UndefinedMetricWarning: Recall and F-score are ill-defined and being set to 0.0 in labels with no true samples. Use `zero_division` parameter to control this behavior.\n",
            "  _warn_prf(average, modifier, msg_start, len(result))\n"
          ],
          "name": "stderr"
        }
      ]
    }
  ]
}