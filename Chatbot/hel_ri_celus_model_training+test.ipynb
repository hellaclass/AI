{
  "nbformat": 4,
  "nbformat_minor": 0,
  "metadata": {
    "colab": {
      "name": "hel_ri_celus_model_training+test.ipynb",
      "provenance": [],
      "collapsed_sections": [
        "4zgaRpQDdvXb",
        "kguP0dF4shL8",
        "xW3tyDdlDMAV"
      ],
      "toc_visible": true,
      "machine_shape": "hm"
    },
    "kernelspec": {
      "name": "python3",
      "display_name": "Python 3"
    },
    "accelerator": "GPU"
  },
  "cells": [
    {
      "cell_type": "markdown",
      "metadata": {
        "id": "WGO07lIw1kG9"
      },
      "source": [
        "# Code for model training & test"
      ]
    },
    {
      "cell_type": "markdown",
      "metadata": {
        "id": "qlbKkYipU4Yl"
      },
      "source": [
        "# lib & load_data"
      ]
    },
    {
      "cell_type": "code",
      "metadata": {
        "id": "WxNNJLVzm2Jn",
        "colab": {
          "base_uri": "https://localhost:8080/"
        },
        "outputId": "5263cdd5-da41-4efc-950a-c5299c02aad6"
      },
      "source": [
        "#### installation ###\n",
        "\n",
        "!pip install git+https://github.com/ssut/py-hanspell.git\n",
        "!pip install konlpy"
      ],
      "execution_count": 1,
      "outputs": [
        {
          "output_type": "stream",
          "text": [
            "Collecting git+https://github.com/ssut/py-hanspell.git\n",
            "  Cloning https://github.com/ssut/py-hanspell.git to /tmp/pip-req-build-82cr9lf1\n",
            "  Running command git clone -q https://github.com/ssut/py-hanspell.git /tmp/pip-req-build-82cr9lf1\n",
            "Requirement already satisfied (use --upgrade to upgrade): py-hanspell==1.1 from git+https://github.com/ssut/py-hanspell.git in /usr/local/lib/python3.6/dist-packages\n",
            "Requirement already satisfied: requests in /usr/local/lib/python3.6/dist-packages (from py-hanspell==1.1) (2.23.0)\n",
            "Requirement already satisfied: urllib3!=1.25.0,!=1.25.1,<1.26,>=1.21.1 in /usr/local/lib/python3.6/dist-packages (from requests->py-hanspell==1.1) (1.24.3)\n",
            "Requirement already satisfied: certifi>=2017.4.17 in /usr/local/lib/python3.6/dist-packages (from requests->py-hanspell==1.1) (2020.11.8)\n",
            "Requirement already satisfied: idna<3,>=2.5 in /usr/local/lib/python3.6/dist-packages (from requests->py-hanspell==1.1) (2.10)\n",
            "Requirement already satisfied: chardet<4,>=3.0.2 in /usr/local/lib/python3.6/dist-packages (from requests->py-hanspell==1.1) (3.0.4)\n",
            "Building wheels for collected packages: py-hanspell\n",
            "  Building wheel for py-hanspell (setup.py) ... \u001b[?25l\u001b[?25hdone\n",
            "  Created wheel for py-hanspell: filename=py_hanspell-1.1-cp36-none-any.whl size=4854 sha256=ee6be65fc009935e7bed3e719bb033338a740ce6be24973e9412a538bb3a75b0\n",
            "  Stored in directory: /tmp/pip-ephem-wheel-cache-lctuodxx/wheels/0a/25/d1/e5e96476dbb1c318cc26c992dd493394fe42b0c204b3e65588\n",
            "Successfully built py-hanspell\n",
            "Requirement already satisfied: konlpy in /usr/local/lib/python3.6/dist-packages (0.5.2)\n",
            "Requirement already satisfied: lxml>=4.1.0 in /usr/local/lib/python3.6/dist-packages (from konlpy) (4.2.6)\n",
            "Requirement already satisfied: beautifulsoup4==4.6.0 in /usr/local/lib/python3.6/dist-packages (from konlpy) (4.6.0)\n",
            "Requirement already satisfied: JPype1>=0.7.0 in /usr/local/lib/python3.6/dist-packages (from konlpy) (1.2.0)\n",
            "Requirement already satisfied: tweepy>=3.7.0 in /usr/local/lib/python3.6/dist-packages (from konlpy) (3.9.0)\n",
            "Requirement already satisfied: numpy>=1.6 in /usr/local/lib/python3.6/dist-packages (from konlpy) (1.18.5)\n",
            "Requirement already satisfied: colorama in /usr/local/lib/python3.6/dist-packages (from konlpy) (0.4.4)\n",
            "Requirement already satisfied: typing-extensions; python_version < \"3.8\" in /usr/local/lib/python3.6/dist-packages (from JPype1>=0.7.0->konlpy) (3.7.4.3)\n",
            "Requirement already satisfied: six>=1.10.0 in /usr/local/lib/python3.6/dist-packages (from tweepy>=3.7.0->konlpy) (1.15.0)\n",
            "Requirement already satisfied: requests[socks]>=2.11.1 in /usr/local/lib/python3.6/dist-packages (from tweepy>=3.7.0->konlpy) (2.23.0)\n",
            "Requirement already satisfied: requests-oauthlib>=0.7.0 in /usr/local/lib/python3.6/dist-packages (from tweepy>=3.7.0->konlpy) (1.3.0)\n",
            "Requirement already satisfied: idna<3,>=2.5 in /usr/local/lib/python3.6/dist-packages (from requests[socks]>=2.11.1->tweepy>=3.7.0->konlpy) (2.10)\n",
            "Requirement already satisfied: certifi>=2017.4.17 in /usr/local/lib/python3.6/dist-packages (from requests[socks]>=2.11.1->tweepy>=3.7.0->konlpy) (2020.11.8)\n",
            "Requirement already satisfied: chardet<4,>=3.0.2 in /usr/local/lib/python3.6/dist-packages (from requests[socks]>=2.11.1->tweepy>=3.7.0->konlpy) (3.0.4)\n",
            "Requirement already satisfied: urllib3!=1.25.0,!=1.25.1,<1.26,>=1.21.1 in /usr/local/lib/python3.6/dist-packages (from requests[socks]>=2.11.1->tweepy>=3.7.0->konlpy) (1.24.3)\n",
            "Requirement already satisfied: PySocks!=1.5.7,>=1.5.6; extra == \"socks\" in /usr/local/lib/python3.6/dist-packages (from requests[socks]>=2.11.1->tweepy>=3.7.0->konlpy) (1.7.1)\n",
            "Requirement already satisfied: oauthlib>=3.0.0 in /usr/local/lib/python3.6/dist-packages (from requests-oauthlib>=0.7.0->tweepy>=3.7.0->konlpy) (3.1.0)\n"
          ],
          "name": "stdout"
        }
      ]
    },
    {
      "cell_type": "code",
      "metadata": {
        "id": "Cv54gM_7-3ui"
      },
      "source": [
        "import numpy as np\n",
        "import pandas as pd\n",
        "import tensorflow as tf\n",
        "from tensorflow.keras.datasets import reuters\n",
        "%matplotlib inline\n",
        "import matplotlib.pyplot as plt\n",
        "import seaborn as sns\n",
        "from sklearn.model_selection import train_test_split\n",
        "from konlpy.tag import Okt, Kkma\n",
        "okt = Okt()\n",
        "kkma = Kkma()\n",
        "from tensorflow.keras.preprocessing.sequence import pad_sequences\n",
        "from tensorflow.keras.preprocessing.text import Tokenizer\n",
        "import re\n",
        "from hanspell import spell_checker"
      ],
      "execution_count": 2,
      "outputs": []
    },
    {
      "cell_type": "markdown",
      "metadata": {
        "id": "M_g2attpzpQr"
      },
      "source": [
        "## path setting"
      ]
    },
    {
      "cell_type": "code",
      "metadata": {
        "id": "eD0cMKN20N9Y"
      },
      "source": [
        "train_data_path = \"/content/drive/MyDrive/Project/Hel_ri_celus (AI voice_bot for delivery_riders)/Chatbot/data/train_data.csv\"\n",
        "test_data_path = \"/content/drive/MyDrive/Project/Hel_ri_celus (AI voice_bot for delivery_riders)/Chatbot/data/test_data.csv\"\n",
        "\n",
        "word_to_index_save_path = \"/content/drive/MyDrive/Project/Hel_ri_celus (AI voice_bot for delivery_riders)/Chatbot/data/\"\n",
        "\n",
        "model_save_path = '/content/drive/MyDrive/Project/Hel_ri_celus (AI voice_bot for delivery_riders)/Chatbot/model/best_model.h5'\n"
      ],
      "execution_count": 3,
      "outputs": []
    },
    {
      "cell_type": "markdown",
      "metadata": {
        "id": "fkHBqJjpU7yD"
      },
      "source": [
        "# Preprocessing"
      ]
    },
    {
      "cell_type": "code",
      "metadata": {
        "id": "RzHmt72Qg_W0"
      },
      "source": [
        "df_train = pd.read_csv(train_data_path)\n",
        "df_test = pd.read_csv(test_data_path)"
      ],
      "execution_count": 4,
      "outputs": []
    },
    {
      "cell_type": "markdown",
      "metadata": {
        "id": "9GKIlxYKU_Yn"
      },
      "source": [
        "## 정규 표현식으로 치환\n",
        "분, 주문번호 변환"
      ]
    },
    {
      "cell_type": "code",
      "metadata": {
        "id": "Q4iY6nV8hrx2"
      },
      "source": [
        "# 정규표현식 함수 정의\n",
        "\n",
        "def re_sub(df):\n",
        "    convert_ls =[]\n",
        "    for idx in (df['text']):\n",
        "        idx = re.sub(\"\\d\\d\\d\\d\",\" @\",idx)\n",
        "        idx = re.sub(\"\\d\\d분\",\" #분\",idx)\n",
        "        \n",
        "        ## 띄어쓰기, 맞춤법\n",
        "        spelled_sent = spell_checker.check(idx)\n",
        "        hanspell_sent = spelled_sent.checked\n",
        "        \n",
        "        convert_ls.append(hanspell_sent)\n",
        "\n",
        "    convert_txt = pd.Series(convert_ls, name = 'convert_ls')\n",
        "    df = pd.concat([df,convert_txt],axis = 1)\n",
        "\n",
        "    return df"
      ],
      "execution_count": 5,
      "outputs": []
    },
    {
      "cell_type": "code",
      "metadata": {
        "id": "9WY-8mVhidQq"
      },
      "source": [
        "df_train = re_sub(df_train)\n",
        "df_test = re_sub(df_test)"
      ],
      "execution_count": 6,
      "outputs": []
    },
    {
      "cell_type": "markdown",
      "metadata": {
        "id": "paXKMAtHdoqM"
      },
      "source": [
        "### train_data label 확인"
      ]
    },
    {
      "cell_type": "code",
      "metadata": {
        "id": "TsPwdwU0ZA9m",
        "colab": {
          "base_uri": "https://localhost:8080/"
        },
        "outputId": "a47147df-0903-4222-ad47-0b52291fec50"
      },
      "source": [
        "# label\n",
        "pd.Series.unique(df_train['intent'])"
      ],
      "execution_count": 7,
      "outputs": [
        {
          "output_type": "execute_result",
          "data": {
            "text/plain": [
              "array(['운행시작', '가게전화', '가게도착', '픽업완료', '영수증번호', '소요시간선택', '배달완료'],\n",
              "      dtype=object)"
            ]
          },
          "metadata": {
            "tags": []
          },
          "execution_count": 7
        }
      ]
    },
    {
      "cell_type": "markdown",
      "metadata": {
        "id": "Ao3cGm9EyXty"
      },
      "source": [
        "## 형태소로 분리 , df에 열로 추가"
      ]
    },
    {
      "cell_type": "markdown",
      "metadata": {
        "id": "4zgaRpQDdvXb"
      },
      "source": [
        "### tokenizer 테스트"
      ]
    },
    {
      "cell_type": "code",
      "metadata": {
        "id": "S7SuQ-EFkqvL"
      },
      "source": [
        "# okt_ls = []\n",
        "# for i in range(len(text_data)):\n",
        "#     okt_text = okt.pos(text_data['convert_ls'][i])\n",
        "#     okt_ls = okt_ls + okt_text\n",
        "\n",
        "# pd.unique(okt_ls)"
      ],
      "execution_count": 8,
      "outputs": []
    },
    {
      "cell_type": "code",
      "metadata": {
        "id": "xIaU_-3zmT9X"
      },
      "source": [
        "# kkma_ls = []\n",
        "# for i in range(len(text_data)):\n",
        "#     kkma_text = kkma.pos(text_data['convert_ls'][i])\n",
        "#     kkma_ls = kkma_ls + kkma_text\n",
        "\n",
        "# pd.unique(kkma_ls)"
      ],
      "execution_count": 9,
      "outputs": []
    },
    {
      "cell_type": "markdown",
      "metadata": {
        "id": "kguP0dF4shL8"
      },
      "source": [
        "### kkma가 더 적합해보임\n",
        "\n",
        "토큰화 / 불용어 제거 / token_len_max"
      ]
    },
    {
      "cell_type": "code",
      "metadata": {
        "id": "XL1lW7wrgI0S"
      },
      "source": [
        "# kkma 토큰화 함수정의\n",
        "\n",
        "def kkma_tokenizer(input_df):\n",
        "    \n",
        "    valid_pos = ['NNG','VV','SW','MAG']\n",
        "    \n",
        "    input_df['token_text'] = np.nan\n",
        "\n",
        "    token_ls =[]\n",
        "    for i in range(len(input_df)):\n",
        "        \n",
        "        # tokenize\n",
        "        token_text = kkma.pos(input_df['convert_ls'][i])\n",
        "        \n",
        "        # 불용어 제거\n",
        "        ls = []\n",
        "        for token in token_text:\n",
        "            \n",
        "            if token[1] in valid_pos:\n",
        "                ls.append(token[0])\n",
        "                token_ls.append(token[0])\n",
        "            \n",
        "            input_df['token_text'][i] = ls"
      ],
      "execution_count": 10,
      "outputs": []
    },
    {
      "cell_type": "code",
      "metadata": {
        "id": "pFPLS6YJhOjm",
        "colab": {
          "base_uri": "https://localhost:8080/"
        },
        "outputId": "fd199236-c436-488d-ba13-531aa40b750e"
      },
      "source": [
        "kkma_tokenizer(df_train)\n",
        "kkma_tokenizer(df_test)"
      ],
      "execution_count": 11,
      "outputs": [
        {
          "output_type": "stream",
          "text": [
            "/usr/local/lib/python3.6/dist-packages/ipykernel_launcher.py:23: SettingWithCopyWarning: \n",
            "A value is trying to be set on a copy of a slice from a DataFrame\n",
            "\n",
            "See the caveats in the documentation: https://pandas.pydata.org/pandas-docs/stable/user_guide/indexing.html#returning-a-view-versus-a-copy\n",
            "/usr/local/lib/python3.6/dist-packages/pandas/core/indexing.py:670: SettingWithCopyWarning: \n",
            "A value is trying to be set on a copy of a slice from a DataFrame\n",
            "\n",
            "See the caveats in the documentation: https://pandas.pydata.org/pandas-docs/stable/user_guide/indexing.html#returning-a-view-versus-a-copy\n",
            "  iloc._setitem_with_indexer(indexer, value)\n"
          ],
          "name": "stderr"
        }
      ]
    },
    {
      "cell_type": "markdown",
      "metadata": {
        "id": "ZJgn95TyX4JL"
      },
      "source": [
        "## Interer encode"
      ]
    },
    {
      "cell_type": "code",
      "metadata": {
        "id": "l8hPLUpMGlj_"
      },
      "source": [
        "# save & load word_to_index\n",
        "\n",
        "import pickle\n",
        "\n",
        "def save_obj(obj, name ):\n",
        "    with open(word_to_index_save_path + name + '.pkl', 'wb') as f:\n",
        "        pickle.dump(obj, f, pickle.HIGHEST_PROTOCOL)\n"
      ],
      "execution_count": 12,
      "outputs": []
    },
    {
      "cell_type": "code",
      "metadata": {
        "id": "ay8M8AIrrYeM"
      },
      "source": [
        "# 토크나이저 최적화\n",
        "from collections import Counter\n",
        "\n",
        "token_ls = []\n",
        "vocab = Counter()\n",
        "\n",
        "for i in range(len(df_train)):\n",
        "    \n",
        "    token_ls = token_ls + df_train['token_text'][i]\n",
        "\n",
        "token_ls = pd.Series(token_ls, name = 'token')\n",
        "\n",
        "result = []\n",
        "\n",
        "# 형태소 개수 count: vocab\n",
        "for word in token_ls:\n",
        "    result.append(word) \n",
        "    vocab[word] = vocab[word]+1 # 각 단어의 빈도를 Count한다\n",
        "\n",
        "# vocab안에서 정렬\n",
        "vocab_sorted = sorted(vocab.items(), key=lambda x:x[1], reverse=True)\n",
        "vocab_sorted\n",
        "\n",
        "# word to_index 만들기\n",
        "word_to_index = {}\n",
        "i = 0\n",
        "for (word, frequency) in vocab_sorted:\n",
        "    if frequency > 1: # 빈도수가 적은 단어는 제외\n",
        "        i += 1\n",
        "        word_to_index[word] = i\n",
        "\n",
        "\n",
        "# 글자 묶음 크기\n",
        "vocab_size = len(word_to_index)+1\n",
        "\n",
        "# word to index 저장\n",
        "save_obj(word_to_index, 'word_to_index')"
      ],
      "execution_count": 13,
      "outputs": []
    },
    {
      "cell_type": "code",
      "metadata": {
        "id": "AW-dArz7sCs0"
      },
      "source": [
        "## df의 정수인코딩 column 생성 및 반영 함수화\n",
        "# tokenizer.fit_on_texts 에서 특수문자 @,# 을 자체적으로 없앰, 이 부분 보완 필요\n",
        "\n",
        "def int_encode(df):\n",
        "    tokenizer = Tokenizer()\n",
        "    tokenizer.word_index = word_to_index\n",
        "\n",
        "    df['integer_encode'] = np.nan\n",
        "    \n",
        "    for i in range(len(df)):\n",
        "        \n",
        "        # integer encode\n",
        "        seq = tokenizer.texts_to_sequences(df['token_text'])\n",
        "\n",
        "        df['integer_encode'] = seq"
      ],
      "execution_count": 14,
      "outputs": []
    },
    {
      "cell_type": "code",
      "metadata": {
        "id": "sxuA9_Uwsyjl"
      },
      "source": [
        "int_encode(df_train)\n",
        "int_encode(df_test)"
      ],
      "execution_count": 15,
      "outputs": []
    },
    {
      "cell_type": "markdown",
      "metadata": {
        "id": "2E3C6je4wsoo"
      },
      "source": [
        "## Padding"
      ]
    },
    {
      "cell_type": "code",
      "metadata": {
        "id": "RBC9y3WjwwPu"
      },
      "source": [
        "df_train = df_train[['integer_encode','label']]\n",
        "df_test = df_test[['integer_encode','label']]"
      ],
      "execution_count": 16,
      "outputs": []
    },
    {
      "cell_type": "code",
      "metadata": {
        "id": "zX_xFf0A7kRN"
      },
      "source": [
        "max_len = 8\n",
        "\n",
        "train_padded = pad_sequences(df_train['integer_encode'], maxlen=max_len)\n",
        "test_padded = pad_sequences(df_test['integer_encode'], maxlen=max_len)"
      ],
      "execution_count": 17,
      "outputs": []
    },
    {
      "cell_type": "markdown",
      "metadata": {
        "id": "jVj-tCR4w53H"
      },
      "source": [
        "# train_test_split"
      ]
    },
    {
      "cell_type": "code",
      "metadata": {
        "id": "bqCLFUBOt3ZS"
      },
      "source": [
        "x_data_train,x_data_valid, y_data_train, y_data_valid = \\\n",
        "train_test_split(train_padded,\n",
        "                 df_train['label'],\n",
        "                 test_size=0.3,\n",
        "                 random_state=0,\n",
        "                 shuffle = True)"
      ],
      "execution_count": 18,
      "outputs": []
    },
    {
      "cell_type": "markdown",
      "metadata": {
        "id": "Zj_YeBJMw0mS"
      },
      "source": [
        "# Modeling"
      ]
    },
    {
      "cell_type": "code",
      "metadata": {
        "id": "eUaP_oyKxIvD"
      },
      "source": [
        "from tensorflow.keras.models import Sequential\n",
        "from tensorflow.keras.layers import Dense, LSTM, Embedding, SimpleRNN\n",
        "from tensorflow.keras.preprocessing.sequence import pad_sequences\n",
        "from tensorflow.keras.callbacks import EarlyStopping, ModelCheckpoint\n",
        "from tensorflow.keras.models import load_model"
      ],
      "execution_count": 19,
      "outputs": []
    },
    {
      "cell_type": "markdown",
      "metadata": {
        "id": "qpHHsdO49Ry_"
      },
      "source": [
        "## label one_hot_encoding"
      ]
    },
    {
      "cell_type": "code",
      "metadata": {
        "id": "0vmPsON77eJa"
      },
      "source": [
        "from tensorflow.keras.utils import to_categorical\n",
        "\n",
        "y_data_train = to_categorical(y_data_train) # 훈련용 레이블의 원-핫 인코딩\n",
        "y_data_valid = to_categorical(y_data_valid) # valid용 레이블의 원-핫 인코딩"
      ],
      "execution_count": 20,
      "outputs": []
    },
    {
      "cell_type": "markdown",
      "metadata": {
        "id": "WUOd7Z9UA_KO"
      },
      "source": [
        "##call_back"
      ]
    },
    {
      "cell_type": "code",
      "metadata": {
        "id": "gIn2xC0cyTKE"
      },
      "source": [
        "es = EarlyStopping(monitor='val_loss', mode='min', verbose=1, patience=4)\n",
        "mc = ModelCheckpoint(model_save_path, monitor='val_acc', mode='max', verbose=1, save_best_only=True)"
      ],
      "execution_count": 21,
      "outputs": []
    },
    {
      "cell_type": "markdown",
      "metadata": {
        "id": "XFPik0Q_BOxG"
      },
      "source": [
        "## modeling"
      ]
    },
    {
      "cell_type": "code",
      "metadata": {
        "colab": {
          "base_uri": "https://localhost:8080/"
        },
        "id": "4IpD6bk6vb__",
        "outputId": "56472ef4-7e16-406e-9e77-b21652bf298f"
      },
      "source": [
        "intent = pd.unique(df_train['label'])\n",
        "print(intent)\n",
        "intent_count = intent.shape[0]\n",
        "intent_count"
      ],
      "execution_count": 22,
      "outputs": [
        {
          "output_type": "stream",
          "text": [
            "[0 1 2 3 4 5 6]\n"
          ],
          "name": "stdout"
        },
        {
          "output_type": "execute_result",
          "data": {
            "text/plain": [
              "7"
            ]
          },
          "metadata": {
            "tags": []
          },
          "execution_count": 22
        }
      ]
    },
    {
      "cell_type": "code",
      "metadata": {
        "id": "bv6cg4lm_lI3"
      },
      "source": [
        "model = Sequential()\n",
        "model.add(Embedding(vocab_size, 120))\n",
        "model.add(LSTM(120))\n",
        "model.add(Dense(intent_count, activation='softmax'))"
      ],
      "execution_count": 23,
      "outputs": []
    },
    {
      "cell_type": "code",
      "metadata": {
        "id": "9DUfkdx5414j"
      },
      "source": [
        "model.compile(loss='categorical_crossentropy', optimizer='adam', metrics=['acc'])"
      ],
      "execution_count": 24,
      "outputs": []
    },
    {
      "cell_type": "code",
      "metadata": {
        "id": "XYFIYvKv43jt",
        "colab": {
          "base_uri": "https://localhost:8080/"
        },
        "outputId": "c5b91ad4-3b41-4c50-b380-7894c61f3b57"
      },
      "source": [
        "history = model.fit(x_data_train,\n",
        "                    y_data_train,\n",
        "                    batch_size = 10,\n",
        "                    epochs=20,\n",
        "                    callbacks=[es, mc],\n",
        "                    \n",
        "                    validation_data=(x_data_valid,\n",
        "                                     y_data_valid))"
      ],
      "execution_count": 25,
      "outputs": [
        {
          "output_type": "stream",
          "text": [
            "Epoch 1/20\n",
            "1/9 [==>...........................] - ETA: 0s - loss: 1.9429 - acc: 0.1000\n",
            "Epoch 00001: val_acc improved from -inf to 0.26316, saving model to /content/drive/MyDrive/Project/Hel_ri_celus (AI voice_bot for delivery_riders)/Chatbot/model/best_model.h5\n",
            "9/9 [==============================] - 1s 145ms/step - loss: 1.9165 - acc: 0.2874 - val_loss: 1.8636 - val_acc: 0.2632\n",
            "Epoch 2/20\n",
            "1/9 [==>...........................] - ETA: 0s - loss: 1.8949 - acc: 0.2000\n",
            "Epoch 00002: val_acc improved from 0.26316 to 0.47368, saving model to /content/drive/MyDrive/Project/Hel_ri_celus (AI voice_bot for delivery_riders)/Chatbot/model/best_model.h5\n",
            "9/9 [==============================] - 0s 9ms/step - loss: 1.8149 - acc: 0.3448 - val_loss: 1.7520 - val_acc: 0.4737\n",
            "Epoch 3/20\n",
            "1/9 [==>...........................] - ETA: 0s - loss: 1.6781 - acc: 0.6000\n",
            "Epoch 00003: val_acc did not improve from 0.47368\n",
            "9/9 [==============================] - 0s 6ms/step - loss: 1.7064 - acc: 0.4828 - val_loss: 1.6251 - val_acc: 0.4737\n",
            "Epoch 4/20\n",
            "1/9 [==>...........................] - ETA: 0s - loss: 1.7866 - acc: 0.3000\n",
            "Epoch 00004: val_acc did not improve from 0.47368\n",
            "9/9 [==============================] - 0s 6ms/step - loss: 1.5493 - acc: 0.4828 - val_loss: 1.4507 - val_acc: 0.4737\n",
            "Epoch 5/20\n",
            "1/9 [==>...........................] - ETA: 0s - loss: 1.4578 - acc: 0.6000\n",
            "Epoch 00005: val_acc improved from 0.47368 to 0.55263, saving model to /content/drive/MyDrive/Project/Hel_ri_celus (AI voice_bot for delivery_riders)/Chatbot/model/best_model.h5\n",
            "9/9 [==============================] - 0s 9ms/step - loss: 1.3665 - acc: 0.4943 - val_loss: 1.2105 - val_acc: 0.5526\n",
            "Epoch 6/20\n",
            "1/9 [==>...........................] - ETA: 0s - loss: 1.1516 - acc: 0.7000\n",
            "Epoch 00006: val_acc improved from 0.55263 to 0.65789, saving model to /content/drive/MyDrive/Project/Hel_ri_celus (AI voice_bot for delivery_riders)/Chatbot/model/best_model.h5\n",
            "9/9 [==============================] - 0s 9ms/step - loss: 1.0646 - acc: 0.6322 - val_loss: 0.8811 - val_acc: 0.6579\n",
            "Epoch 7/20\n",
            "1/9 [==>...........................] - ETA: 0s - loss: 1.1219 - acc: 0.4000\n",
            "Epoch 00007: val_acc improved from 0.65789 to 0.94737, saving model to /content/drive/MyDrive/Project/Hel_ri_celus (AI voice_bot for delivery_riders)/Chatbot/model/best_model.h5\n",
            "9/9 [==============================] - 0s 10ms/step - loss: 0.7512 - acc: 0.7701 - val_loss: 0.5805 - val_acc: 0.9474\n",
            "Epoch 8/20\n",
            "1/9 [==>...........................] - ETA: 0s - loss: 0.6978 - acc: 1.0000\n",
            "Epoch 00008: val_acc did not improve from 0.94737\n",
            "9/9 [==============================] - 0s 6ms/step - loss: 0.4606 - acc: 0.9310 - val_loss: 0.3506 - val_acc: 0.9474\n",
            "Epoch 9/20\n",
            "1/9 [==>...........................] - ETA: 0s - loss: 0.4452 - acc: 0.9000\n",
            "Epoch 00009: val_acc improved from 0.94737 to 0.97368, saving model to /content/drive/MyDrive/Project/Hel_ri_celus (AI voice_bot for delivery_riders)/Chatbot/model/best_model.h5\n",
            "9/9 [==============================] - 0s 9ms/step - loss: 0.2909 - acc: 0.9655 - val_loss: 0.2262 - val_acc: 0.9737\n",
            "Epoch 10/20\n",
            "1/9 [==>...........................] - ETA: 0s - loss: 0.2994 - acc: 1.0000\n",
            "Epoch 00010: val_acc improved from 0.97368 to 1.00000, saving model to /content/drive/MyDrive/Project/Hel_ri_celus (AI voice_bot for delivery_riders)/Chatbot/model/best_model.h5\n",
            "9/9 [==============================] - 0s 9ms/step - loss: 0.2085 - acc: 0.9655 - val_loss: 0.1704 - val_acc: 1.0000\n",
            "Epoch 11/20\n",
            "1/9 [==>...........................] - ETA: 0s - loss: 0.2923 - acc: 1.0000\n",
            "Epoch 00011: val_acc did not improve from 1.00000\n",
            "9/9 [==============================] - 0s 6ms/step - loss: 0.1230 - acc: 0.9885 - val_loss: 0.1108 - val_acc: 0.9737\n",
            "Epoch 12/20\n",
            "1/9 [==>...........................] - ETA: 0s - loss: 0.0903 - acc: 1.0000\n",
            "Epoch 00012: val_acc did not improve from 1.00000\n",
            "9/9 [==============================] - 0s 6ms/step - loss: 0.0685 - acc: 0.9770 - val_loss: 0.0839 - val_acc: 1.0000\n",
            "Epoch 13/20\n",
            "1/9 [==>...........................] - ETA: 0s - loss: 0.0318 - acc: 1.0000\n",
            "Epoch 00013: val_acc did not improve from 1.00000\n",
            "9/9 [==============================] - 0s 6ms/step - loss: 0.0675 - acc: 0.9885 - val_loss: 0.0713 - val_acc: 0.9737\n",
            "Epoch 14/20\n",
            "1/9 [==>...........................] - ETA: 0s - loss: 0.0776 - acc: 1.0000\n",
            "Epoch 00014: val_acc did not improve from 1.00000\n",
            "9/9 [==============================] - 0s 7ms/step - loss: 0.0475 - acc: 1.0000 - val_loss: 0.0742 - val_acc: 0.9737\n",
            "Epoch 15/20\n",
            "1/9 [==>...........................] - ETA: 0s - loss: 0.0646 - acc: 1.0000\n",
            "Epoch 00015: val_acc did not improve from 1.00000\n",
            "9/9 [==============================] - 0s 6ms/step - loss: 0.0328 - acc: 1.0000 - val_loss: 0.0458 - val_acc: 1.0000\n",
            "Epoch 16/20\n",
            "1/9 [==>...........................] - ETA: 0s - loss: 0.0097 - acc: 1.0000\n",
            "Epoch 00016: val_acc did not improve from 1.00000\n",
            "9/9 [==============================] - 0s 6ms/step - loss: 0.0250 - acc: 1.0000 - val_loss: 0.0443 - val_acc: 1.0000\n",
            "Epoch 17/20\n",
            "1/9 [==>...........................] - ETA: 0s - loss: 0.0204 - acc: 1.0000\n",
            "Epoch 00017: val_acc did not improve from 1.00000\n",
            "9/9 [==============================] - 0s 5ms/step - loss: 0.0191 - acc: 1.0000 - val_loss: 0.0384 - val_acc: 1.0000\n",
            "Epoch 18/20\n",
            "1/9 [==>...........................] - ETA: 0s - loss: 0.0347 - acc: 1.0000\n",
            "Epoch 00018: val_acc did not improve from 1.00000\n",
            "9/9 [==============================] - 0s 5ms/step - loss: 0.0165 - acc: 1.0000 - val_loss: 0.0384 - val_acc: 1.0000\n",
            "Epoch 19/20\n",
            "1/9 [==>...........................] - ETA: 0s - loss: 0.0106 - acc: 1.0000\n",
            "Epoch 00019: val_acc did not improve from 1.00000\n",
            "9/9 [==============================] - 0s 6ms/step - loss: 0.0148 - acc: 1.0000 - val_loss: 0.0330 - val_acc: 1.0000\n",
            "Epoch 20/20\n",
            "1/9 [==>...........................] - ETA: 0s - loss: 0.0130 - acc: 1.0000\n",
            "Epoch 00020: val_acc did not improve from 1.00000\n",
            "9/9 [==============================] - 0s 6ms/step - loss: 0.0117 - acc: 1.0000 - val_loss: 0.0340 - val_acc: 1.0000\n"
          ],
          "name": "stdout"
        }
      ]
    },
    {
      "cell_type": "markdown",
      "metadata": {
        "id": "xW3tyDdlDMAV"
      },
      "source": [
        "# predict"
      ]
    },
    {
      "cell_type": "code",
      "metadata": {
        "id": "iL7MqmEm4-O9"
      },
      "source": [
        "def pred(input_data):\n",
        "    pred = model.predict(input_data)\n",
        "    pred_result = [np.argmax(i) for i in pred]\n",
        "    return pred_result"
      ],
      "execution_count": 26,
      "outputs": []
    },
    {
      "cell_type": "code",
      "metadata": {
        "id": "qIRuJB76Ux58",
        "colab": {
          "base_uri": "https://localhost:8080/"
        },
        "outputId": "d76915c7-f058-4407-cf54-f156d18d5148"
      },
      "source": [
        "import sklearn\n",
        "print(sklearn.metrics.classification_report(df_test['label'],pred(test_padded)))"
      ],
      "execution_count": 27,
      "outputs": [
        {
          "output_type": "stream",
          "text": [
            "              precision    recall  f1-score   support\n",
            "\n",
            "           0       0.67      1.00      0.80         2\n",
            "           1       1.00      1.00      1.00         2\n",
            "           2       1.00      1.00      1.00         2\n",
            "           3       1.00      1.00      1.00         2\n",
            "           4       1.00      1.00      1.00         2\n",
            "           5       1.00      1.00      1.00         2\n",
            "           6       1.00      0.50      0.67         2\n",
            "\n",
            "    accuracy                           0.93        14\n",
            "   macro avg       0.95      0.93      0.92        14\n",
            "weighted avg       0.95      0.93      0.92        14\n",
            "\n"
          ],
          "name": "stdout"
        }
      ]
    },
    {
      "cell_type": "code",
      "metadata": {
        "id": "Wd3ghR5pQQ00"
      },
      "source": [
        ""
      ],
      "execution_count": 27,
      "outputs": []
    }
  ]
}